{
  "nbformat": 4,
  "nbformat_minor": 0,
  "metadata": {
    "colab": {
      "name": "textscraping.ipynb",
      "provenance": [],
      "collapsed_sections": [],
      "mount_file_id": "1CfEc8VCG_7f6yqQ0T7NoKm4r_mUP0D3z",
      "authorship_tag": "ABX9TyMxQHs8fcTyathyUDzYlKYu",
      "include_colab_link": true
    },
    "kernelspec": {
      "display_name": "Python 3",
      "name": "python3"
    }
  },
  "cells": [
    {
      "cell_type": "markdown",
      "metadata": {
        "id": "view-in-github",
        "colab_type": "text"
      },
      "source": [
        "<a href=\"https://colab.research.google.com/github/linus3003/PropVisionDashboard/blob/master/textscraping.ipynb\" target=\"_parent\"><img src=\"https://colab.research.google.com/assets/colab-badge.svg\" alt=\"Open In Colab\"/></a>"
      ]
    },
    {
      "cell_type": "code",
      "metadata": {
        "colab": {
          "base_uri": "https://localhost:8080/"
        },
        "id": "1zX62QdDktSG",
        "outputId": "990f11c7-2114-4bd3-be12-d0bff618f6f0"
      },
      "source": [
        "!pip install selenium\n",
        "!apt-get update # to update ubuntu to correctly run apt install\n",
        "!apt install chromium-chromedriver\n",
        "!pip install unidecode\n",
        "!cp /usr/lib/chromium-browser/chromedriver /usr/bin\n",
        "import sys\n",
        "sys.path.insert(0,'/usr/lib/chromium-browser/chromedriver')\n",
        "from selenium import webdriver\n",
        "chrome_options = webdriver.ChromeOptions()\n",
        "chrome_options.add_argument('--headless')\n",
        "chrome_options.add_argument('--no-sandbox')\n",
        "chrome_options.add_argument('--disable-dev-shm-usage')"
      ],
      "execution_count": 1,
      "outputs": [
        {
          "output_type": "stream",
          "text": [
            "Collecting selenium\n",
            "\u001b[?25l  Downloading https://files.pythonhosted.org/packages/80/d6/4294f0b4bce4de0abf13e17190289f9d0613b0a44e5dd6a7f5ca98459853/selenium-3.141.0-py2.py3-none-any.whl (904kB)\n",
            "\r\u001b[K     |▍                               | 10kB 16.6MB/s eta 0:00:01\r\u001b[K     |▊                               | 20kB 21.4MB/s eta 0:00:01\r\u001b[K     |█                               | 30kB 9.5MB/s eta 0:00:01\r\u001b[K     |█▌                              | 40kB 7.6MB/s eta 0:00:01\r\u001b[K     |█▉                              | 51kB 3.6MB/s eta 0:00:01\r\u001b[K     |██▏                             | 61kB 4.2MB/s eta 0:00:01\r\u001b[K     |██▌                             | 71kB 4.4MB/s eta 0:00:01\r\u001b[K     |███                             | 81kB 4.9MB/s eta 0:00:01\r\u001b[K     |███▎                            | 92kB 5.0MB/s eta 0:00:01\r\u001b[K     |███▋                            | 102kB 5.1MB/s eta 0:00:01\r\u001b[K     |████                            | 112kB 5.1MB/s eta 0:00:01\r\u001b[K     |████▍                           | 122kB 5.1MB/s eta 0:00:01\r\u001b[K     |████▊                           | 133kB 5.1MB/s eta 0:00:01\r\u001b[K     |█████                           | 143kB 5.1MB/s eta 0:00:01\r\u001b[K     |█████▍                          | 153kB 5.1MB/s eta 0:00:01\r\u001b[K     |█████▉                          | 163kB 5.1MB/s eta 0:00:01\r\u001b[K     |██████▏                         | 174kB 5.1MB/s eta 0:00:01\r\u001b[K     |██████▌                         | 184kB 5.1MB/s eta 0:00:01\r\u001b[K     |██████▉                         | 194kB 5.1MB/s eta 0:00:01\r\u001b[K     |███████▎                        | 204kB 5.1MB/s eta 0:00:01\r\u001b[K     |███████▋                        | 215kB 5.1MB/s eta 0:00:01\r\u001b[K     |████████                        | 225kB 5.1MB/s eta 0:00:01\r\u001b[K     |████████▎                       | 235kB 5.1MB/s eta 0:00:01\r\u001b[K     |████████▊                       | 245kB 5.1MB/s eta 0:00:01\r\u001b[K     |█████████                       | 256kB 5.1MB/s eta 0:00:01\r\u001b[K     |█████████▍                      | 266kB 5.1MB/s eta 0:00:01\r\u001b[K     |█████████▉                      | 276kB 5.1MB/s eta 0:00:01\r\u001b[K     |██████████▏                     | 286kB 5.1MB/s eta 0:00:01\r\u001b[K     |██████████▌                     | 296kB 5.1MB/s eta 0:00:01\r\u001b[K     |██████████▉                     | 307kB 5.1MB/s eta 0:00:01\r\u001b[K     |███████████▎                    | 317kB 5.1MB/s eta 0:00:01\r\u001b[K     |███████████▋                    | 327kB 5.1MB/s eta 0:00:01\r\u001b[K     |████████████                    | 337kB 5.1MB/s eta 0:00:01\r\u001b[K     |████████████▎                   | 348kB 5.1MB/s eta 0:00:01\r\u001b[K     |████████████▊                   | 358kB 5.1MB/s eta 0:00:01\r\u001b[K     |█████████████                   | 368kB 5.1MB/s eta 0:00:01\r\u001b[K     |█████████████▍                  | 378kB 5.1MB/s eta 0:00:01\r\u001b[K     |█████████████▊                  | 389kB 5.1MB/s eta 0:00:01\r\u001b[K     |██████████████▏                 | 399kB 5.1MB/s eta 0:00:01\r\u001b[K     |██████████████▌                 | 409kB 5.1MB/s eta 0:00:01\r\u001b[K     |██████████████▉                 | 419kB 5.1MB/s eta 0:00:01\r\u001b[K     |███████████████▏                | 430kB 5.1MB/s eta 0:00:01\r\u001b[K     |███████████████▋                | 440kB 5.1MB/s eta 0:00:01\r\u001b[K     |████████████████                | 450kB 5.1MB/s eta 0:00:01\r\u001b[K     |████████████████▎               | 460kB 5.1MB/s eta 0:00:01\r\u001b[K     |████████████████▋               | 471kB 5.1MB/s eta 0:00:01\r\u001b[K     |█████████████████               | 481kB 5.1MB/s eta 0:00:01\r\u001b[K     |█████████████████▍              | 491kB 5.1MB/s eta 0:00:01\r\u001b[K     |█████████████████▊              | 501kB 5.1MB/s eta 0:00:01\r\u001b[K     |██████████████████▏             | 512kB 5.1MB/s eta 0:00:01\r\u001b[K     |██████████████████▌             | 522kB 5.1MB/s eta 0:00:01\r\u001b[K     |██████████████████▉             | 532kB 5.1MB/s eta 0:00:01\r\u001b[K     |███████████████████▏            | 542kB 5.1MB/s eta 0:00:01\r\u001b[K     |███████████████████▋            | 552kB 5.1MB/s eta 0:00:01\r\u001b[K     |████████████████████            | 563kB 5.1MB/s eta 0:00:01\r\u001b[K     |████████████████████▎           | 573kB 5.1MB/s eta 0:00:01\r\u001b[K     |████████████████████▋           | 583kB 5.1MB/s eta 0:00:01\r\u001b[K     |█████████████████████           | 593kB 5.1MB/s eta 0:00:01\r\u001b[K     |█████████████████████▍          | 604kB 5.1MB/s eta 0:00:01\r\u001b[K     |█████████████████████▊          | 614kB 5.1MB/s eta 0:00:01\r\u001b[K     |██████████████████████          | 624kB 5.1MB/s eta 0:00:01\r\u001b[K     |██████████████████████▌         | 634kB 5.1MB/s eta 0:00:01\r\u001b[K     |██████████████████████▉         | 645kB 5.1MB/s eta 0:00:01\r\u001b[K     |███████████████████████▏        | 655kB 5.1MB/s eta 0:00:01\r\u001b[K     |███████████████████████▌        | 665kB 5.1MB/s eta 0:00:01\r\u001b[K     |████████████████████████        | 675kB 5.1MB/s eta 0:00:01\r\u001b[K     |████████████████████████▎       | 686kB 5.1MB/s eta 0:00:01\r\u001b[K     |████████████████████████▋       | 696kB 5.1MB/s eta 0:00:01\r\u001b[K     |█████████████████████████       | 706kB 5.1MB/s eta 0:00:01\r\u001b[K     |█████████████████████████▍      | 716kB 5.1MB/s eta 0:00:01\r\u001b[K     |█████████████████████████▊      | 727kB 5.1MB/s eta 0:00:01\r\u001b[K     |██████████████████████████      | 737kB 5.1MB/s eta 0:00:01\r\u001b[K     |██████████████████████████▍     | 747kB 5.1MB/s eta 0:00:01\r\u001b[K     |██████████████████████████▉     | 757kB 5.1MB/s eta 0:00:01\r\u001b[K     |███████████████████████████▏    | 768kB 5.1MB/s eta 0:00:01\r\u001b[K     |███████████████████████████▌    | 778kB 5.1MB/s eta 0:00:01\r\u001b[K     |████████████████████████████    | 788kB 5.1MB/s eta 0:00:01\r\u001b[K     |████████████████████████████▎   | 798kB 5.1MB/s eta 0:00:01\r\u001b[K     |████████████████████████████▋   | 808kB 5.1MB/s eta 0:00:01\r\u001b[K     |█████████████████████████████   | 819kB 5.1MB/s eta 0:00:01\r\u001b[K     |█████████████████████████████▍  | 829kB 5.1MB/s eta 0:00:01\r\u001b[K     |█████████████████████████████▊  | 839kB 5.1MB/s eta 0:00:01\r\u001b[K     |██████████████████████████████  | 849kB 5.1MB/s eta 0:00:01\r\u001b[K     |██████████████████████████████▍ | 860kB 5.1MB/s eta 0:00:01\r\u001b[K     |██████████████████████████████▉ | 870kB 5.1MB/s eta 0:00:01\r\u001b[K     |███████████████████████████████▏| 880kB 5.1MB/s eta 0:00:01\r\u001b[K     |███████████████████████████████▌| 890kB 5.1MB/s eta 0:00:01\r\u001b[K     |███████████████████████████████▉| 901kB 5.1MB/s eta 0:00:01\r\u001b[K     |████████████████████████████████| 911kB 5.1MB/s \n",
            "\u001b[?25hRequirement already satisfied: urllib3 in /usr/local/lib/python3.6/dist-packages (from selenium) (1.24.3)\n",
            "Installing collected packages: selenium\n",
            "Successfully installed selenium-3.141.0\n",
            "Get:1 https://cloud.r-project.org/bin/linux/ubuntu bionic-cran40/ InRelease [3,626 B]\n",
            "Ign:2 https://developer.download.nvidia.com/compute/cuda/repos/ubuntu1804/x86_64  InRelease\n",
            "Get:3 http://security.ubuntu.com/ubuntu bionic-security InRelease [88.7 kB]\n",
            "Get:4 http://ppa.launchpad.net/c2d4u.team/c2d4u4.0+/ubuntu bionic InRelease [15.9 kB]\n",
            "Hit:5 http://archive.ubuntu.com/ubuntu bionic InRelease\n",
            "Ign:6 https://developer.download.nvidia.com/compute/machine-learning/repos/ubuntu1804/x86_64  InRelease\n",
            "Hit:7 https://developer.download.nvidia.com/compute/cuda/repos/ubuntu1804/x86_64  Release\n",
            "Get:8 https://developer.download.nvidia.com/compute/machine-learning/repos/ubuntu1804/x86_64  Release [564 B]\n",
            "Get:9 http://archive.ubuntu.com/ubuntu bionic-updates InRelease [88.7 kB]\n",
            "Get:10 https://developer.download.nvidia.com/compute/machine-learning/repos/ubuntu1804/x86_64  Release.gpg [833 B]\n",
            "Hit:11 http://ppa.launchpad.net/cran/libgit2/ubuntu bionic InRelease\n",
            "Get:12 https://cloud.r-project.org/bin/linux/ubuntu bionic-cran40/ Packages [43.2 kB]\n",
            "Get:13 http://ppa.launchpad.net/graphics-drivers/ppa/ubuntu bionic InRelease [21.3 kB]\n",
            "Get:14 http://archive.ubuntu.com/ubuntu bionic-backports InRelease [74.6 kB]\n",
            "Get:16 http://ppa.launchpad.net/c2d4u.team/c2d4u4.0+/ubuntu bionic/main Sources [1,707 kB]\n",
            "Get:17 https://developer.download.nvidia.com/compute/machine-learning/repos/ubuntu1804/x86_64  Packages [66.5 kB]\n",
            "Get:18 http://security.ubuntu.com/ubuntu bionic-security/main amd64 Packages [1,872 kB]\n",
            "Get:19 http://ppa.launchpad.net/c2d4u.team/c2d4u4.0+/ubuntu bionic/main amd64 Packages [874 kB]\n",
            "Get:20 http://security.ubuntu.com/ubuntu bionic-security/restricted amd64 Packages [278 kB]\n",
            "Get:21 http://security.ubuntu.com/ubuntu bionic-security/universe amd64 Packages [1,376 kB]\n",
            "Get:22 http://archive.ubuntu.com/ubuntu bionic-updates/main amd64 Packages [2,298 kB]\n",
            "Get:23 http://archive.ubuntu.com/ubuntu bionic-updates/universe amd64 Packages [2,140 kB]\n",
            "Get:24 http://archive.ubuntu.com/ubuntu bionic-updates/multiverse amd64 Packages [45.6 kB]\n",
            "Get:25 http://archive.ubuntu.com/ubuntu bionic-updates/restricted amd64 Packages [304 kB]\n",
            "Get:26 http://ppa.launchpad.net/graphics-drivers/ppa/ubuntu bionic/main amd64 Packages [49.2 kB]\n",
            "Fetched 11.3 MB in 3s (3,650 kB/s)\n",
            "Reading package lists... Done\n",
            "Reading package lists... Done\n",
            "Building dependency tree       \n",
            "Reading state information... Done\n",
            "The following additional packages will be installed:\n",
            "  chromium-browser chromium-browser-l10n chromium-codecs-ffmpeg-extra\n",
            "Suggested packages:\n",
            "  webaccounts-chromium-extension unity-chromium-extension adobe-flashplugin\n",
            "The following NEW packages will be installed:\n",
            "  chromium-browser chromium-browser-l10n chromium-chromedriver\n",
            "  chromium-codecs-ffmpeg-extra\n",
            "0 upgraded, 4 newly installed, 0 to remove and 40 not upgraded.\n",
            "Need to get 81.0 MB of archives.\n",
            "After this operation, 273 MB of additional disk space will be used.\n",
            "Get:1 http://archive.ubuntu.com/ubuntu bionic-updates/universe amd64 chromium-codecs-ffmpeg-extra amd64 87.0.4280.66-0ubuntu0.18.04.1 [1,122 kB]\n",
            "Get:2 http://archive.ubuntu.com/ubuntu bionic-updates/universe amd64 chromium-browser amd64 87.0.4280.66-0ubuntu0.18.04.1 [71.7 MB]\n",
            "Get:3 http://archive.ubuntu.com/ubuntu bionic-updates/universe amd64 chromium-browser-l10n all 87.0.4280.66-0ubuntu0.18.04.1 [3,716 kB]\n",
            "Get:4 http://archive.ubuntu.com/ubuntu bionic-updates/universe amd64 chromium-chromedriver amd64 87.0.4280.66-0ubuntu0.18.04.1 [4,488 kB]\n",
            "Fetched 81.0 MB in 3s (23.3 MB/s)\n",
            "Selecting previously unselected package chromium-codecs-ffmpeg-extra.\n",
            "(Reading database ... 145483 files and directories currently installed.)\n",
            "Preparing to unpack .../chromium-codecs-ffmpeg-extra_87.0.4280.66-0ubuntu0.18.04.1_amd64.deb ...\n",
            "Unpacking chromium-codecs-ffmpeg-extra (87.0.4280.66-0ubuntu0.18.04.1) ...\n",
            "Selecting previously unselected package chromium-browser.\n",
            "Preparing to unpack .../chromium-browser_87.0.4280.66-0ubuntu0.18.04.1_amd64.deb ...\n",
            "Unpacking chromium-browser (87.0.4280.66-0ubuntu0.18.04.1) ...\n",
            "Selecting previously unselected package chromium-browser-l10n.\n",
            "Preparing to unpack .../chromium-browser-l10n_87.0.4280.66-0ubuntu0.18.04.1_all.deb ...\n",
            "Unpacking chromium-browser-l10n (87.0.4280.66-0ubuntu0.18.04.1) ...\n",
            "Selecting previously unselected package chromium-chromedriver.\n",
            "Preparing to unpack .../chromium-chromedriver_87.0.4280.66-0ubuntu0.18.04.1_amd64.deb ...\n",
            "Unpacking chromium-chromedriver (87.0.4280.66-0ubuntu0.18.04.1) ...\n",
            "Setting up chromium-codecs-ffmpeg-extra (87.0.4280.66-0ubuntu0.18.04.1) ...\n",
            "Setting up chromium-browser (87.0.4280.66-0ubuntu0.18.04.1) ...\n",
            "update-alternatives: using /usr/bin/chromium-browser to provide /usr/bin/x-www-browser (x-www-browser) in auto mode\n",
            "update-alternatives: using /usr/bin/chromium-browser to provide /usr/bin/gnome-www-browser (gnome-www-browser) in auto mode\n",
            "Setting up chromium-chromedriver (87.0.4280.66-0ubuntu0.18.04.1) ...\n",
            "Setting up chromium-browser-l10n (87.0.4280.66-0ubuntu0.18.04.1) ...\n",
            "Processing triggers for hicolor-icon-theme (0.17-2) ...\n",
            "Processing triggers for mime-support (3.60ubuntu1) ...\n",
            "Processing triggers for man-db (2.8.3-2ubuntu0.1) ...\n",
            "Collecting unidecode\n",
            "\u001b[?25l  Downloading https://files.pythonhosted.org/packages/74/65/91eab655041e9e92f948cb7302e54962035762ce7b518272ed9d6b269e93/Unidecode-1.1.2-py2.py3-none-any.whl (239kB)\n",
            "\u001b[K     |████████████████████████████████| 245kB 5.4MB/s \n",
            "\u001b[?25hInstalling collected packages: unidecode\n",
            "Successfully installed unidecode-1.1.2\n",
            "cp: '/usr/lib/chromium-browser/chromedriver' and '/usr/bin/chromedriver' are the same file\n"
          ],
          "name": "stdout"
        }
      ]
    },
    {
      "cell_type": "code",
      "metadata": {
        "colab": {
          "base_uri": "https://localhost:8080/"
        },
        "id": "Gn7NgnOg1Gmk",
        "outputId": "7258abf5-9419-4418-d591-d280332d50db"
      },
      "source": [
        "!pip install -q xlrd\n",
        "!git clone https://github.com/linus3003/AI-talents.git\n",
        "!ls AI-talents\n",
        "%cd AI-talents"
      ],
      "execution_count": 2,
      "outputs": [
        {
          "output_type": "stream",
          "text": [
            "Cloning into 'AI-talents'...\n",
            "remote: Enumerating objects: 3, done.\u001b[K\n",
            "remote: Counting objects: 100% (3/3), done.\u001b[K\n",
            "remote: Compressing objects: 100% (3/3), done.\u001b[K\n",
            "remote: Total 81 (delta 0), reused 0 (delta 0), pack-reused 78\u001b[K\n",
            "Unpacking objects: 100% (81/81), done.\n",
            "alldata0301.csv     alldata_final.csv\t  linksandtext.csv\t links.csv\n",
            "alldata.csv\t    date_translation.csv  linksandtextfinal.csv  links_new.csv\n",
            "alldata_final2.csv  linksandtext_2.csv\t  linksandtext_new.csv\t README.md\n",
            "/content/AI-talents\n"
          ],
          "name": "stdout"
        }
      ]
    },
    {
      "cell_type": "code",
      "metadata": {
        "id": "Jt5qvUx8Jge8",
        "colab": {
          "base_uri": "https://localhost:8080/"
        },
        "outputId": "7ceb7038-a8c3-46a4-e750-d01927c84a19"
      },
      "source": [
        "!git pull"
      ],
      "execution_count": 3,
      "outputs": [
        {
          "output_type": "stream",
          "text": [
            "Already up to date.\n"
          ],
          "name": "stdout"
        }
      ]
    },
    {
      "cell_type": "code",
      "metadata": {
        "id": "mDiY4QY5Ae-V"
      },
      "source": [
        "import os\n",
        "from bs4 import BeautifulSoup\n",
        "from selenium import webdriver\n",
        "from selenium.webdriver.common.keys import Keys\n",
        "from selenium.webdriver.common.by import By\n",
        "from itertools import chain,zip_longest\n",
        "import time\n",
        "import sys\n",
        "import numpy as np\n",
        "import pandas as pd\n",
        "import regex as re\n",
        "from IPython.display import Image\n",
        "from bs4.element import Comment, Tag\n",
        "import urllib.request\n",
        "import unidecode\n"
      ],
      "execution_count": 4,
      "outputs": []
    },
    {
      "cell_type": "code",
      "metadata": {
        "id": "sMyPeERE1lZS"
      },
      "source": [
        "column_names = [\"url\"]\n",
        "links_df = pd.read_csv('links_new.csv', names=column_names, skiprows=1)\n",
        "links_df.drop_duplicates(inplace=True)\n",
        "links_loaded = links_df.url.to_list()"
      ],
      "execution_count": 7,
      "outputs": []
    },
    {
      "cell_type": "code",
      "metadata": {
        "colab": {
          "base_uri": "https://localhost:8080/"
        },
        "id": "DIwL7knY3-Vw",
        "outputId": "fd992c6a-ebe6-4abb-d944-08d62dd46da4"
      },
      "source": [
        "len(links_loaded)"
      ],
      "execution_count": 8,
      "outputs": [
        {
          "output_type": "execute_result",
          "data": {
            "text/plain": [
              "5199"
            ]
          },
          "metadata": {
            "tags": []
          },
          "execution_count": 8
        }
      ]
    },
    {
      "cell_type": "code",
      "metadata": {
        "id": "auul0Mdd4ys_"
      },
      "source": [
        "wd = webdriver.Chrome('chromedriver',options=chrome_options)\n"
      ],
      "execution_count": 9,
      "outputs": []
    },
    {
      "cell_type": "code",
      "metadata": {
        "id": "_GpA2HqZM0B8"
      },
      "source": [
        "# function for accepting cookies\n",
        "\n",
        "def acceptCookies(url, wd, acceptbutton=\"\"):\n",
        "    wd.get(url)\n",
        "    try:\n",
        "      driver.find_by_id(acceptbutton).click()\n",
        "    except Exception:\n",
        "      pass\n",
        "    \n",
        "   \n",
        "# text extraction\n",
        "def text_from_html(url,driver):\n",
        "\n",
        "    driver.get(url)\n",
        "    soup = BeautifulSoup(driver.page_source, 'html.parser')\n",
        "    texts =\"\"\n",
        "\n",
        "    if \"howoge\" in url:\n",
        "\n",
        "      try:\n",
        "       start = soup.find(text =\"Daten und Fakten\").find_all_next(\"tr\")\n",
        "       texts = u\" \".join(t.getText().strip() for t in start)\n",
        "\n",
        "      except AttributeError:\n",
        "        print(\", Parsing Error for \",url)\n",
        "        pass\n",
        "       \n",
        "    if \"neubaukompass\" in url:\n",
        "      \n",
        "      acceptCookies(url,driver, 'nbk-px-20 nbk-py-2 nbk-text-white nbk-bg-secondary nbk-border-solid nbk-border nbk-border-secondary nbk-rounded nbk-shadow-2xl hover:nbk-opacity-90 hover:nbk-cursor-pointer btn-cookies-accept-all')\n",
        "\n",
        "      try:\n",
        "\n",
        "        if \"wohneinheit\" in url:\n",
        "          start = soup.find(\"h1\")\n",
        "\n",
        "        else: start = soup.find(text =\"Projektdetails\")\n",
        "        \n",
        "        if start is not None:\n",
        "          \n",
        "          cont = start.find_all_next([\"span\",\"a\"])\n",
        "          texts = u\" \".join(t.getText().strip() for t in cont)\n",
        "          end = re.compile(r'[aA-zZ-]*ID.*',re.DOTALL)\n",
        "          texts = re.sub(end, '',texts)\n",
        "\n",
        "          merkmale= soup.find_all(\"div\", class_ = \"py-1 desktop-width nbk-text-sm\")\n",
        "\n",
        "          if merkmale:\n",
        "            texts = texts + u\" \".join(t.getText().strip() for t in merkmale)\n",
        "\n",
        "          else:\n",
        "            print(\", start not found for \"+url)\n",
        "        \n",
        "      except AttributeError:\n",
        "          print(\", Parsing Error for \",url)\n",
        "\n",
        "    if \"wuestenrot\" in url:\n",
        " \n",
        "        #acceptCookies(url,driver, 'uc-btn-accept-banner')\n",
        "\n",
        "        try:\n",
        "          head = soup.find(\"div\", class_=\"headlineContainer\" ).getText().strip()\n",
        "          start = soup.find(\"div\", class_=\"headlineContainer\" ).find_all_next(\"div\", class_=\"textContainer\")\n",
        "          texts = head+ u\" \".join(t.getText().strip() for t in start)\n",
        "        except AttributeError:\n",
        "          print(\", Parsing Error for \",url)\n",
        "          pass\n",
        "\n",
        "    texts = re.sub('\\t', ' ', texts)\n",
        "    texts = re.sub('\\n', ' ', texts)\n",
        "    texts = re.sub(' +',' ', texts)  \n",
        "     \n",
        "    return texts\n",
        "\n"
      ],
      "execution_count": 10,
      "outputs": []
    },
    {
      "cell_type": "markdown",
      "metadata": {
        "id": "MP7DXZUO4l8g"
      },
      "source": [
        "testing"
      ]
    },
    {
      "cell_type": "code",
      "metadata": {
        "id": "2mk2qVWlK7zC"
      },
      "source": [
        "nbk_unit = links_loaded[5180] #hwg\n",
        "nbk_unit2=links_loaded[5153]\n",
        "#unit3=links_loaded[229]\n",
        "#nbk_umain = links_loaded[230]\n",
        "#nbk_base = links_loaded[242]\n",
        "testlist = [nbk_unit,nbk_unit2]\n"
      ],
      "execution_count": 11,
      "outputs": []
    },
    {
      "cell_type": "code",
      "metadata": {
        "id": "PtpkJikPLwQW"
      },
      "source": [
        "nbk_base_text = [text_from_html(url,wd) for url in testlist]"
      ],
      "execution_count": 12,
      "outputs": []
    },
    {
      "cell_type": "code",
      "metadata": {
        "colab": {
          "base_uri": "https://localhost:8080/"
        },
        "id": "E9ViLSCkPtP_",
        "outputId": "6d640c0f-4538-400a-9fa0-fdc1a26a99c0"
      },
      "source": [
        "print(nbk_base_text[0])"
      ],
      "execution_count": 13,
      "outputs": [
        {
          "output_type": "stream",
          "text": [
            "Lage Goeckestraße 32-34, 13055 Berlin Größe Grundstück 14.324 qm Wohneinheiten 264 Mietwohnungen Wohnungsschlüssel 2-6-Zimmerwohnungen Gebäude 2 Baustart Mai 2017 Fertigstellung Anfang 2020 Architekten Raumerschaffen Architekten\n"
          ],
          "name": "stdout"
        }
      ]
    },
    {
      "cell_type": "markdown",
      "metadata": {
        "id": "xKaqcVcX4oPH"
      },
      "source": [
        "end test"
      ]
    },
    {
      "cell_type": "code",
      "metadata": {
        "colab": {
          "base_uri": "https://localhost:8080/",
          "height": 1000
        },
        "id": "db6AjsSrF2dv",
        "outputId": "76ab8e0b-286a-4f93-bf19-87fbe419b04c"
      },
      "source": [
        "text = []\n",
        "text_badge = []\n",
        "count = 0\n",
        "total = len(links_loaded)\n",
        "\n",
        "\n",
        "for link in links_loaded:\n",
        "    \n",
        "  count+=1\n",
        "  text_badge.append(text_from_html(link,wd))\n",
        "\n",
        "  if count%100 == 0:\n",
        "    text.append(text_badge)\n",
        "    text_badge = []\n",
        "\n",
        "  sys.stdout.write('\\r'+ str(count)+\"/\"+ str(total)+ \" [\"+ str(round((count/total)*100,1))+ \"%] completed\")\n",
        "\n",
        "text.append(text_badge)"
      ],
      "execution_count": null,
      "outputs": [
        {
          "output_type": "stream",
          "text": [
            "222/5199 [4.3%] completedstart not found for https://www.neubaukompass.de/neubau/lhq-haus-37-berlin/\n",
            "229/5199 [4.4%] completedstart not found for https://www.neubaukompass.de/neubau/wieland-pestalozzi-berlin-dh/\n",
            "230/5199 [4.4%] completedstart not found for https://www.neubaukompass.de/neubau/billy-wilder-living-berlin/\n",
            "243/5199 [4.7%] completedstart not found for https://www.neubaukompass.de/neubau/duo-novo-berlin/\n",
            "244/5199 [4.7%] completedstart not found for https://www.neubaukompass.de/neubau/studio-living-b2-berlin/\n",
            "249/5199 [4.8%] completedstart not found for https://www.neubaukompass.de/neubau/upwest-berlin/\n",
            "250/5199 [4.8%] completedstart not found for https://www.neubaukompass.de/neubau/neue-florahoefe-berlin/\n",
            "251/5199 [4.8%] completedstart not found for https://www.neubaukompass.de/neubau/wildrose-berlin/\n",
            "252/5199 [4.8%] completedstart not found for https://www.neubaukompass.de/neubau/am-spreebogen-berlin-charlottenburg/\n",
            "253/5199 [4.9%] completedstart not found for https://www.neubaukompass.de/neubau/utopia-berlin/\n",
            "254/5199 [4.9%] completedstart not found for https://www.neubaukompass.de/neubau/east-side-studios-berlin/\n",
            "261/5199 [5.0%] completedstart not found for https://www.neubaukompass.de/neubau/neuendorfer-eck-hohen-neuendorf/\n",
            "262/5199 [5.0%] completedstart not found for https://www.neubaukompass.de/neubau/fabrik-lofts-berlin/\n",
            "266/5199 [5.1%] completedstart not found for https://www.neubaukompass.de/neubau/vorstadtgaerten-aderluch-oranienburg/\n",
            "267/5199 [5.1%] completedstart not found for https://www.neubaukompass.de/neubau/zaunkoenige-altglienicke-berlin/\n",
            "268/5199 [5.2%] completedstart not found for https://www.neubaukompass.de/neubau/machnower-chaussee-zossen/\n",
            "269/5199 [5.2%] completedstart not found for https://www.neubaukompass.de/neubau/fiftysix-lietzenburger-berlin/\n",
            "270/5199 [5.2%] completedstart not found for https://www.neubaukompass.de/neubau/quartier-hugos-berlin/\n",
            "271/5199 [5.2%] completedstart not found for https://www.neubaukompass.de/neubau/dichter-eck-berlin/\n",
            "272/5199 [5.2%] completedstart not found for https://www.neubaukompass.de/neubau/parkstadt-karlshorst-berlin/\n",
            "273/5199 [5.3%] completedstart not found for https://www.neubaukompass.de/neubau/w4-am-grossen-wannsee-berlin/\n",
            "274/5199 [5.3%] completedstart not found for https://www.neubaukompass.de/neubau/lausitzer-quartier-berlin/\n",
            "275/5199 [5.3%] completedstart not found for https://www.neubaukompass.de/neubau/buwog-xberg-living-berlin/\n",
            "280/5199 [5.4%] completedstart not found for https://www.neubaukompass.de/neubau/kreuzberg-no-5-berlin/\n",
            "288/5199 [5.5%] completedstart not found for https://www.neubaukompass.de/neubau/eberty-urban-living-berlin/\n",
            "289/5199 [5.6%] completedstart not found for https://www.neubaukompass.de/neubau/lytz-berlin/\n",
            "290/5199 [5.6%] completedstart not found for https://www.neubaukompass.de/neubau/das-albrecht-berlin/\n",
            "562/5199 [10.8%] completedstart not found for https://www.neubaukompass.de/neubau/linienstrasse-72-berlin/\n",
            "563/5199 [10.8%] completedstart not found for https://www.neubaukompass.de/neubau/la-bollene-berlin/\n",
            "564/5199 [10.8%] completedstart not found for https://www.neubaukompass.de/neubau/berliner-allee-94-berlin/\n",
            "565/5199 [10.9%] completedstart not found for https://www.neubaukompass.de/neubau/orangerie-wohnen-am-tiefer-see-potsdam/\n",
            "566/5199 [10.9%] completedstart not found for https://www.neubaukompass.de/neubau/am-hochmeisterplatz-berlin/\n",
            "571/5199 [11.0%] completedstart not found for https://www.neubaukompass.de/neubau/living-spree-2-berlin/\n",
            "572/5199 [11.0%] completedstart not found for https://www.neubaukompass.de/neubau/cosyyard-berlin/\n",
            "581/5199 [11.2%] completedstart not found for https://www.neubaukompass.de/neubau/buwog-uferkrone-suno-berlin/\n",
            "584/5199 [11.2%] completedstart not found for https://www.neubaukompass.de/neubau/pandion-midtown-berlin/\n",
            "585/5199 [11.3%] completedstart not found for https://www.neubaukompass.de/neubau/oranje-huis-teltow/\n",
            "601/5199 [11.6%] completedstart not found for https://www.neubaukompass.de/neubau/havelglueck-oranienburg/\n",
            "608/5199 [11.7%] completedstart not found for https://www.neubaukompass.de/neubau/no1-charlottenburg-berlin/\n",
            "611/5199 [11.8%] completedstart not found for https://www.neubaukompass.de/neubau/freienwalder-strasse-berlin/\n",
            "614/5199 [11.8%] completedstart not found for https://www.neubaukompass.de/neubau/am-birkenwaeldchen-berlin/\n",
            "616/5199 [11.8%] completedstart not found for https://www.neubaukompass.de/neubau/h9-berlin/\n",
            "617/5199 [11.9%] completedstart not found for https://www.neubaukompass.de/neubau/industrielofts-berlin/\n",
            "618/5199 [11.9%] completedstart not found for https://www.neubaukompass.de/neubau/seetore-residenz-neuruppin/\n",
            "619/5199 [11.9%] completedstart not found for https://www.neubaukompass.de/neubau/schiller-und-havel-hohen-neuendorf/\n",
            "659/5199 [12.7%] completedstart not found for https://www.neubaukompass.de/neubau/veithaus-tegler-see-13a-berlin/\n",
            "673/5199 [12.9%] completedstart not found for https://www.neubaukompass.de/neubau/embassy-berlin/\n",
            "677/5199 [13.0%] completedstart not found for https://www.neubaukompass.de/neubau/heegermuehler-weg-berlin/\n",
            "683/5199 [13.1%] completedstart not found for https://www.neubaukompass.de/neubau/wuhletaler-fenster-berlin/\n",
            "684/5199 [13.2%] completedstart not found for https://www.neubaukompass.de/neubau/ostpreussendamm-78-berlin/\n",
            "692/5199 [13.3%] completedstart not found for https://www.neubaukompass.de/neubau/fleur-de-berlin/\n",
            "695/5199 [13.4%] completedstart not found for https://www.neubaukompass.de/neubau/villa-wuerttemberg-berlin/\n",
            "698/5199 [13.4%] completedstart not found for https://www.neubaukompass.de/neubau/dahme5-berlin/\n",
            "699/5199 [13.4%] completedstart not found for https://www.neubaukompass.de/neubau/alexander-berlin/\n",
            "700/5199 [13.5%] completedstart not found for https://www.neubaukompass.de/neubau/steinbach-palais-bad-saarow/\n",
            "911/5199 [17.5%] completedstart not found for https://www.neubaukompass.de/neubau/the-falckenstein-berlin/\n",
            "2540/5199 [48.9%] completedstart not found for https://www.neubaukompass.de/neubau/garden-village-lueneburg/\n",
            "2706/5199 [52.0%] completedstart not found for https://www.neubaukompass.de/neubau/bilenbarg-75-hamburg/\n",
            "3659/5199 [70.4%] completed"
          ],
          "name": "stdout"
        },
        {
          "output_type": "error",
          "ename": "WebDriverException",
          "evalue": "ignored",
          "traceback": [
            "\u001b[0;31m---------------------------------------------------------------------------\u001b[0m",
            "\u001b[0;31mWebDriverException\u001b[0m                        Traceback (most recent call last)",
            "\u001b[0;32m<ipython-input-118-1b386dfef107>\u001b[0m in \u001b[0;36m<module>\u001b[0;34m()\u001b[0m\n\u001b[1;32m      8\u001b[0m \u001b[0;34m\u001b[0m\u001b[0m\n\u001b[1;32m      9\u001b[0m   \u001b[0mcount\u001b[0m\u001b[0;34m+=\u001b[0m\u001b[0;36m1\u001b[0m\u001b[0;34m\u001b[0m\u001b[0;34m\u001b[0m\u001b[0m\n\u001b[0;32m---> 10\u001b[0;31m   \u001b[0mtext_badge\u001b[0m\u001b[0;34m.\u001b[0m\u001b[0mappend\u001b[0m\u001b[0;34m(\u001b[0m\u001b[0mtext_from_html\u001b[0m\u001b[0;34m(\u001b[0m\u001b[0mlink\u001b[0m\u001b[0;34m,\u001b[0m\u001b[0mwd\u001b[0m\u001b[0;34m)\u001b[0m\u001b[0;34m)\u001b[0m\u001b[0;34m\u001b[0m\u001b[0;34m\u001b[0m\u001b[0m\n\u001b[0m\u001b[1;32m     11\u001b[0m \u001b[0;34m\u001b[0m\u001b[0m\n\u001b[1;32m     12\u001b[0m   \u001b[0;32mif\u001b[0m \u001b[0mcount\u001b[0m\u001b[0;34m%\u001b[0m\u001b[0;36m100\u001b[0m \u001b[0;34m==\u001b[0m \u001b[0;36m0\u001b[0m\u001b[0;34m:\u001b[0m\u001b[0;34m\u001b[0m\u001b[0;34m\u001b[0m\u001b[0m\n",
            "\u001b[0;32m<ipython-input-117-b0819f881a3c>\u001b[0m in \u001b[0;36mtext_from_html\u001b[0;34m(url, driver)\u001b[0m\n\u001b[1;32m     15\u001b[0m \u001b[0;32mdef\u001b[0m \u001b[0mtext_from_html\u001b[0m\u001b[0;34m(\u001b[0m\u001b[0murl\u001b[0m\u001b[0;34m,\u001b[0m\u001b[0mdriver\u001b[0m\u001b[0;34m)\u001b[0m\u001b[0;34m:\u001b[0m\u001b[0;34m\u001b[0m\u001b[0;34m\u001b[0m\u001b[0m\n\u001b[1;32m     16\u001b[0m \u001b[0;34m\u001b[0m\u001b[0m\n\u001b[0;32m---> 17\u001b[0;31m     \u001b[0mdriver\u001b[0m\u001b[0;34m.\u001b[0m\u001b[0mget\u001b[0m\u001b[0;34m(\u001b[0m\u001b[0murl\u001b[0m\u001b[0;34m)\u001b[0m\u001b[0;34m\u001b[0m\u001b[0;34m\u001b[0m\u001b[0m\n\u001b[0m\u001b[1;32m     18\u001b[0m     \u001b[0msoup\u001b[0m \u001b[0;34m=\u001b[0m \u001b[0mBeautifulSoup\u001b[0m\u001b[0;34m(\u001b[0m\u001b[0mdriver\u001b[0m\u001b[0;34m.\u001b[0m\u001b[0mpage_source\u001b[0m\u001b[0;34m,\u001b[0m \u001b[0;34m'html.parser'\u001b[0m\u001b[0;34m)\u001b[0m\u001b[0;34m\u001b[0m\u001b[0;34m\u001b[0m\u001b[0m\n\u001b[1;32m     19\u001b[0m     \u001b[0mtexts\u001b[0m \u001b[0;34m=\u001b[0m\u001b[0;34m\"\"\u001b[0m\u001b[0;34m\u001b[0m\u001b[0;34m\u001b[0m\u001b[0m\n",
            "\u001b[0;32m/usr/local/lib/python3.6/dist-packages/selenium/webdriver/remote/webdriver.py\u001b[0m in \u001b[0;36mget\u001b[0;34m(self, url)\u001b[0m\n\u001b[1;32m    331\u001b[0m         \u001b[0mLoads\u001b[0m \u001b[0ma\u001b[0m \u001b[0mweb\u001b[0m \u001b[0mpage\u001b[0m \u001b[0;32min\u001b[0m \u001b[0mthe\u001b[0m \u001b[0mcurrent\u001b[0m \u001b[0mbrowser\u001b[0m \u001b[0msession\u001b[0m\u001b[0;34m.\u001b[0m\u001b[0;34m\u001b[0m\u001b[0;34m\u001b[0m\u001b[0m\n\u001b[1;32m    332\u001b[0m         \"\"\"\n\u001b[0;32m--> 333\u001b[0;31m         \u001b[0mself\u001b[0m\u001b[0;34m.\u001b[0m\u001b[0mexecute\u001b[0m\u001b[0;34m(\u001b[0m\u001b[0mCommand\u001b[0m\u001b[0;34m.\u001b[0m\u001b[0mGET\u001b[0m\u001b[0;34m,\u001b[0m \u001b[0;34m{\u001b[0m\u001b[0;34m'url'\u001b[0m\u001b[0;34m:\u001b[0m \u001b[0murl\u001b[0m\u001b[0;34m}\u001b[0m\u001b[0;34m)\u001b[0m\u001b[0;34m\u001b[0m\u001b[0;34m\u001b[0m\u001b[0m\n\u001b[0m\u001b[1;32m    334\u001b[0m \u001b[0;34m\u001b[0m\u001b[0m\n\u001b[1;32m    335\u001b[0m     \u001b[0;34m@\u001b[0m\u001b[0mproperty\u001b[0m\u001b[0;34m\u001b[0m\u001b[0;34m\u001b[0m\u001b[0m\n",
            "\u001b[0;32m/usr/local/lib/python3.6/dist-packages/selenium/webdriver/remote/webdriver.py\u001b[0m in \u001b[0;36mexecute\u001b[0;34m(self, driver_command, params)\u001b[0m\n\u001b[1;32m    319\u001b[0m         \u001b[0mresponse\u001b[0m \u001b[0;34m=\u001b[0m \u001b[0mself\u001b[0m\u001b[0;34m.\u001b[0m\u001b[0mcommand_executor\u001b[0m\u001b[0;34m.\u001b[0m\u001b[0mexecute\u001b[0m\u001b[0;34m(\u001b[0m\u001b[0mdriver_command\u001b[0m\u001b[0;34m,\u001b[0m \u001b[0mparams\u001b[0m\u001b[0;34m)\u001b[0m\u001b[0;34m\u001b[0m\u001b[0;34m\u001b[0m\u001b[0m\n\u001b[1;32m    320\u001b[0m         \u001b[0;32mif\u001b[0m \u001b[0mresponse\u001b[0m\u001b[0;34m:\u001b[0m\u001b[0;34m\u001b[0m\u001b[0;34m\u001b[0m\u001b[0m\n\u001b[0;32m--> 321\u001b[0;31m             \u001b[0mself\u001b[0m\u001b[0;34m.\u001b[0m\u001b[0merror_handler\u001b[0m\u001b[0;34m.\u001b[0m\u001b[0mcheck_response\u001b[0m\u001b[0;34m(\u001b[0m\u001b[0mresponse\u001b[0m\u001b[0;34m)\u001b[0m\u001b[0;34m\u001b[0m\u001b[0;34m\u001b[0m\u001b[0m\n\u001b[0m\u001b[1;32m    322\u001b[0m             response['value'] = self._unwrap_value(\n\u001b[1;32m    323\u001b[0m                 response.get('value', None))\n",
            "\u001b[0;32m/usr/local/lib/python3.6/dist-packages/selenium/webdriver/remote/errorhandler.py\u001b[0m in \u001b[0;36mcheck_response\u001b[0;34m(self, response)\u001b[0m\n\u001b[1;32m    240\u001b[0m                 \u001b[0malert_text\u001b[0m \u001b[0;34m=\u001b[0m \u001b[0mvalue\u001b[0m\u001b[0;34m[\u001b[0m\u001b[0;34m'alert'\u001b[0m\u001b[0;34m]\u001b[0m\u001b[0;34m.\u001b[0m\u001b[0mget\u001b[0m\u001b[0;34m(\u001b[0m\u001b[0;34m'text'\u001b[0m\u001b[0;34m)\u001b[0m\u001b[0;34m\u001b[0m\u001b[0;34m\u001b[0m\u001b[0m\n\u001b[1;32m    241\u001b[0m             \u001b[0;32mraise\u001b[0m \u001b[0mexception_class\u001b[0m\u001b[0;34m(\u001b[0m\u001b[0mmessage\u001b[0m\u001b[0;34m,\u001b[0m \u001b[0mscreen\u001b[0m\u001b[0;34m,\u001b[0m \u001b[0mstacktrace\u001b[0m\u001b[0;34m,\u001b[0m \u001b[0malert_text\u001b[0m\u001b[0;34m)\u001b[0m\u001b[0;34m\u001b[0m\u001b[0;34m\u001b[0m\u001b[0m\n\u001b[0;32m--> 242\u001b[0;31m         \u001b[0;32mraise\u001b[0m \u001b[0mexception_class\u001b[0m\u001b[0;34m(\u001b[0m\u001b[0mmessage\u001b[0m\u001b[0;34m,\u001b[0m \u001b[0mscreen\u001b[0m\u001b[0;34m,\u001b[0m \u001b[0mstacktrace\u001b[0m\u001b[0;34m)\u001b[0m\u001b[0;34m\u001b[0m\u001b[0;34m\u001b[0m\u001b[0m\n\u001b[0m\u001b[1;32m    243\u001b[0m \u001b[0;34m\u001b[0m\u001b[0m\n\u001b[1;32m    244\u001b[0m     \u001b[0;32mdef\u001b[0m \u001b[0m_value_or_default\u001b[0m\u001b[0;34m(\u001b[0m\u001b[0mself\u001b[0m\u001b[0;34m,\u001b[0m \u001b[0mobj\u001b[0m\u001b[0;34m,\u001b[0m \u001b[0mkey\u001b[0m\u001b[0;34m,\u001b[0m \u001b[0mdefault\u001b[0m\u001b[0;34m)\u001b[0m\u001b[0;34m:\u001b[0m\u001b[0;34m\u001b[0m\u001b[0;34m\u001b[0m\u001b[0m\n",
            "\u001b[0;31mWebDriverException\u001b[0m: Message: unknown error: session deleted because of page crash\nfrom unknown error: cannot determine loading status\nfrom tab crashed\n  (Session info: headless chrome=87.0.4280.66)\n"
          ]
        }
      ]
    },
    {
      "cell_type": "code",
      "metadata": {
        "id": "Z_I1H9eBUYDu"
      },
      "source": [
        ""
      ],
      "execution_count": null,
      "outputs": []
    },
    {
      "cell_type": "code",
      "metadata": {
        "id": "SQPwqnArq-2p"
      },
      "source": [
        "text_flat = list(chain.from_iterable(text))"
      ],
      "execution_count": null,
      "outputs": []
    },
    {
      "cell_type": "code",
      "metadata": {
        "id": "t5r72juE4v80"
      },
      "source": [
        "text_flat[1]"
      ],
      "execution_count": null,
      "outputs": []
    },
    {
      "cell_type": "code",
      "metadata": {
        "id": "eSmnym-MUj9A"
      },
      "source": [
        "import csv\n",
        "from google.colab import drive\n",
        "drive.mount('drive')\n",
        "\n",
        "def write_to_csv(filename, links, text):\n",
        "  with open(filename, 'w', newline='') as csvfile:\n",
        "    writer = csv.writer(csvfile)\n",
        "    writer.writerow([\"url\",\"text\"])\n",
        "    #merge = zip(links, text)\n",
        "    merge= list(zip_longest(links, text, fillvalue=''))\n",
        "    for i in merge:\n",
        "      writer.writerow(i)\n",
        "      "
      ],
      "execution_count": null,
      "outputs": []
    },
    {
      "cell_type": "code",
      "metadata": {
        "id": "mcwlNKVSw9_T"
      },
      "source": [
        "write_to_csv('linksandtext_new.csv',links_loaded, text_flat)"
      ],
      "execution_count": null,
      "outputs": []
    },
    {
      "cell_type": "code",
      "metadata": {
        "id": "_iMkQgvUNdUs"
      },
      "source": [
        "#updating missing text \n",
        "\n",
        "def update_linktext_df(linkstextfile,driver):\n",
        "  \n",
        "  df = pd.read_csv(linkstextfile)\n",
        "\n",
        "\n",
        "  count = 0\n",
        "  total = len(df[df['text'].isna()])\n",
        "\n",
        "\n",
        "  #Nans\n",
        "  for index, row in df.iterrows():\n",
        "\n",
        "    if pd.isna(df.loc[index,'text']):\n",
        "        time.sleep(np.random.lognormal(0,0.8))\n",
        "        count+=1;  \n",
        "        row2 = row.copy()\n",
        "        try:\n",
        "          row2['text']=text_from_html(row2['url'],driver)\n",
        "          df.loc[index, 'text'] = row2['text']\n",
        "          sys.stdout.write('\\r'+ str(count)+\"/\"+ str(total)+ \" [\"+ str(round((count/total)*100,1))+ \"%] of missing texts added\")\n",
        "        except: \n",
        "          df.loc[index, 'text'] = \"Please complete\"\n",
        "\n",
        "\n",
        "  #Captcha requests\n",
        "\n",
        "  for index, row in df.iterrows():\n",
        "\n",
        "    text = row[\"text\"]\n",
        "    if pd.isnull(text)==False and \"Please complete\" in text: \n",
        "        count+=1;  \n",
        "        row2 = row.copy()\n",
        "        try:\n",
        "          row2['text']=text_from_html(row2['url'],driver)\n",
        "          df.loc[index, 'text'] = row2['text']\n",
        "          sys.stdout.write('\\r'+ \"correcting df[\"+index+\"]\")\n",
        "        except:\n",
        "          df.loc[index, 'text'] = \"\"\n",
        "\n",
        "  return df"
      ],
      "execution_count": null,
      "outputs": []
    },
    {
      "cell_type": "code",
      "metadata": {
        "id": "N4eaH2JOQ5EM"
      },
      "source": [
        "linkcompl= pd.read_csv('linksandtextfinal.csv')"
      ],
      "execution_count": null,
      "outputs": []
    },
    {
      "cell_type": "code",
      "metadata": {
        "id": "I9COM3e_Rxet"
      },
      "source": [
        "test = linkcompl.loc[pd.isna(linkcompl['text'])]"
      ],
      "execution_count": null,
      "outputs": []
    },
    {
      "cell_type": "code",
      "metadata": {
        "id": "eeuwaZeOSfo8"
      },
      "source": [
        "test"
      ],
      "execution_count": null,
      "outputs": []
    },
    {
      "cell_type": "code",
      "metadata": {
        "id": "WfvKxSGLRC0B"
      },
      "source": [
        "test=linkcompl[linkcompl['text'] is None]"
      ],
      "execution_count": null,
      "outputs": []
    },
    {
      "cell_type": "code",
      "metadata": {
        "colab": {
          "base_uri": "https://localhost:8080/"
        },
        "id": "I2WHhG-9UsSm",
        "outputId": "c6a9137f-f2b7-45ed-8008-87184237a6c7"
      },
      "source": [
        "linkstext_complete=update_linktext_df('linksandtextfinal.csv',wd)"
      ],
      "execution_count": null,
      "outputs": [
        {
          "output_type": "stream",
          "text": [
            "49/52 [94.2%] of missing texts added, Parsing Error for  https://www.howoge.de/wohnungsbau/neubauprojekte/stallschreiberstrasse.html\n",
            "52/52 [100.0%] of missing texts added"
          ],
          "name": "stdout"
        }
      ]
    },
    {
      "cell_type": "code",
      "metadata": {
        "colab": {
          "base_uri": "https://localhost:8080/"
        },
        "id": "xTlON7mzGfHH",
        "outputId": "58147a64-f32a-456d-fe3f-66bbde6aa749"
      },
      "source": [
        "linkstext_complete.loc[5192]"
      ],
      "execution_count": null,
      "outputs": [
        {
          "output_type": "execute_result",
          "data": {
            "text/plain": [
              "Unnamed: 0                                                 5192\n",
              "url           https://www.howoge.de/wohnungsbau/neubauprojek...\n",
              "text          Lage Rosenfelder Ring 13, 10315 Berlin Größe G...\n",
              "Name: 5192, dtype: object"
            ]
          },
          "metadata": {
            "tags": []
          },
          "execution_count": 10
        }
      ]
    },
    {
      "cell_type": "code",
      "metadata": {
        "id": "VNs4YOS8FVE0"
      },
      "source": [
        "linkstext_complete.to_csv('linksandtextfinal.csv')"
      ],
      "execution_count": null,
      "outputs": []
    },
    {
      "cell_type": "code",
      "metadata": {
        "id": "2m6zoM6Goa9x"
      },
      "source": [
        "write_to_csv('linksandtextfinal.csv', links_loaded, linkstext_complete['text'])"
      ],
      "execution_count": null,
      "outputs": []
    }
  ]
}