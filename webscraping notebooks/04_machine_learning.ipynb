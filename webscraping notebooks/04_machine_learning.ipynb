{
  "nbformat": 4,
  "nbformat_minor": 0,
  "metadata": {
    "colab": {
      "name": "PropML.ipynb",
      "provenance": [],
      "collapsed_sections": [],
      "authorship_tag": "ABX9TyOE0+kNS9cziFZuQJ3Neprc",
      "include_colab_link": true
    },
    "kernelspec": {
      "name": "python3",
      "display_name": "Python 3"
    }
  },
  "cells": [
    {
      "cell_type": "markdown",
      "metadata": {
        "id": "view-in-github",
        "colab_type": "text"
      },
      "source": [
        "<a href=\"https://colab.research.google.com/github/linus3003/PropVisionDashboard/blob/master/PropML.ipynb\" target=\"_parent\"><img src=\"https://colab.research.google.com/assets/colab-badge.svg\" alt=\"Open In Colab\"/></a>"
      ]
    },
    {
      "cell_type": "code",
      "metadata": {
        "colab": {
          "base_uri": "https://localhost:8080/"
        },
        "id": "w0sUlAer98pS",
        "outputId": "e6de46bd-cbba-43e9-efdb-bab93c49aec5"
      },
      "source": [
        "!pip install -q xlrd\n",
        "!git clone https://github.com/linus3003/AI-talents.git\n",
        "!ls AI-talents\n",
        "%cd AI-talents"
      ],
      "execution_count": null,
      "outputs": [
        {
          "output_type": "stream",
          "text": [
            "Cloning into 'AI-talents'...\n",
            "remote: Enumerating objects: 3, done.\u001b[K\n",
            "remote: Counting objects:  33% (1/3)\u001b[K\rremote: Counting objects:  66% (2/3)\u001b[K\rremote: Counting objects: 100% (3/3)\u001b[K\rremote: Counting objects: 100% (3/3), done.\u001b[K\n",
            "remote: Compressing objects: 100% (3/3), done.\u001b[K\n",
            "remote: Total 81 (delta 0), reused 0 (delta 0), pack-reused 78\u001b[K\n",
            "Unpacking objects: 100% (81/81), done.\n",
            "alldata0301.csv     alldata_final.csv\t  linksandtext.csv\t links.csv\n",
            "alldata.csv\t    date_translation.csv  linksandtextfinal.csv  links_new.csv\n",
            "alldata_final2.csv  linksandtext_2.csv\t  linksandtext_new.csv\t README.md\n",
            "/content/AI-talents\n"
          ],
          "name": "stdout"
        }
      ]
    },
    {
      "cell_type": "code",
      "metadata": {
        "id": "Uvtz0aAkRcSQ"
      },
      "source": [
        "import pandas as pd\n",
        "import regex as re\n",
        "import numpy as np\n",
        "pd.set_option('display.max_colwidth', None)"
      ],
      "execution_count": null,
      "outputs": []
    },
    {
      "cell_type": "code",
      "metadata": {
        "id": "bdxxAtSWpPr2"
      },
      "source": [
        "import os\n",
        "import pandas as pd\n",
        "from sklearn import preprocessing\n",
        "import matplotlib.pyplot as plt\n",
        "plt.style.use('seaborn')\n",
        "import seaborn as sns\n",
        "import re\n",
        "import xgboost as xgb\n",
        "from sklearn.model_selection import train_test_split, RandomizedSearchCV\n",
        "from sklearn.pipeline import Pipeline\n",
        "from sklearn.impute import SimpleImputer\n",
        "from sklearn.preprocessing import StandardScaler, OneHotEncoder, KBinsDiscretizer\n",
        "from sklearn.compose import ColumnTransformer\n",
        "from sklearn.metrics import mean_squared_error, r2_score, mean_absolute_error\n",
        "from sklearn import set_config\n"
      ],
      "execution_count": null,
      "outputs": []
    },
    {
      "cell_type": "code",
      "metadata": {
        "colab": {
          "base_uri": "https://localhost:8080/"
        },
        "id": "paTfprqV_7A_",
        "outputId": "ba12bc89-d6f0-4ec8-a874-663daf9a92d6"
      },
      "source": [
        "!pip install pgeocode\n",
        "import pgeocode"
      ],
      "execution_count": null,
      "outputs": [
        {
          "output_type": "stream",
          "text": [
            "Collecting pgeocode\n",
            "  Downloading https://files.pythonhosted.org/packages/35/88/688b8550ceeed59a4b0be3f54d2ad8075ce708b5d5c0b0ec1a3abe58d4cb/pgeocode-0.3.0-py3-none-any.whl\n",
            "Requirement already satisfied: requests in /usr/local/lib/python3.6/dist-packages (from pgeocode) (2.23.0)\n",
            "Requirement already satisfied: numpy in /usr/local/lib/python3.6/dist-packages (from pgeocode) (1.19.4)\n",
            "Requirement already satisfied: pandas in /usr/local/lib/python3.6/dist-packages (from pgeocode) (1.1.5)\n",
            "Requirement already satisfied: idna<3,>=2.5 in /usr/local/lib/python3.6/dist-packages (from requests->pgeocode) (2.10)\n",
            "Requirement already satisfied: chardet<4,>=3.0.2 in /usr/local/lib/python3.6/dist-packages (from requests->pgeocode) (3.0.4)\n",
            "Requirement already satisfied: urllib3!=1.25.0,!=1.25.1,<1.26,>=1.21.1 in /usr/local/lib/python3.6/dist-packages (from requests->pgeocode) (1.24.3)\n",
            "Requirement already satisfied: certifi>=2017.4.17 in /usr/local/lib/python3.6/dist-packages (from requests->pgeocode) (2020.12.5)\n",
            "Requirement already satisfied: pytz>=2017.2 in /usr/local/lib/python3.6/dist-packages (from pandas->pgeocode) (2018.9)\n",
            "Requirement already satisfied: python-dateutil>=2.7.3 in /usr/local/lib/python3.6/dist-packages (from pandas->pgeocode) (2.8.1)\n",
            "Requirement already satisfied: six>=1.5 in /usr/local/lib/python3.6/dist-packages (from python-dateutil>=2.7.3->pandas->pgeocode) (1.15.0)\n",
            "Installing collected packages: pgeocode\n",
            "Successfully installed pgeocode-0.3.0\n"
          ],
          "name": "stdout"
        }
      ]
    },
    {
      "cell_type": "code",
      "metadata": {
        "id": "yG5t2_ESRfbZ"
      },
      "source": [
        "df = pd.read_csv('alldata.csv', index_col = 0)\n",
        "df.reset_index(inplace=True,drop=True)"
      ],
      "execution_count": null,
      "outputs": []
    },
    {
      "cell_type": "code",
      "metadata": {
        "id": "WNLHJrIvXYjD"
      },
      "source": [
        "df[:10]"
      ],
      "execution_count": null,
      "outputs": []
    },
    {
      "cell_type": "code",
      "metadata": {
        "id": "Le0IC-ouSVv_"
      },
      "source": [
        "data = df.drop([cleantext','point','allprice','allrooms','allsqft','latitude','longitude','address_sc','address_clean','unit_id'], axis=1)"
      ],
      "execution_count": null,
      "outputs": []
    },
    {
      "cell_type": "code",
      "metadata": {
        "colab": {
          "base_uri": "https://localhost:8080/"
        },
        "id": "PgXKqXyPvZL1",
        "outputId": "5eb05d2e-db94-43be-95fa-f9b6db6ed3f3"
      },
      "source": [
        "data.columns.to_list()"
      ],
      "execution_count": null,
      "outputs": [
        {
          "output_type": "execute_result",
          "data": {
            "text/plain": [
              "['index',\n",
              " 'url',\n",
              " 'dev_status',\n",
              " 'is_unit',\n",
              " 'location',\n",
              " 'price',\n",
              " 'sqft',\n",
              " 'rooms',\n",
              " 'wohntyp',\n",
              " 'price-pred',\n",
              " 'region',\n",
              " 'is_lk',\n",
              " 'diff_from_prediction',\n",
              " 'schools5km']"
            ]
          },
          "metadata": {
            "tags": []
          },
          "execution_count": 51
        }
      ]
    },
    {
      "cell_type": "code",
      "metadata": {
        "id": "915FPynCUkwk"
      },
      "source": [
        "#region = re.compile(\"[\\,] ([\\S]+)[\\,] [\\d]+[\\,] Deutschland\")\n",
        "plz = re.compile(\"[\\,] [\\S]+[\\,] ([\\d]+)[\\,] Deutschland\")"
      ],
      "execution_count": null,
      "outputs": []
    },
    {
      "cell_type": "code",
      "metadata": {
        "id": "CQk-kVw6UVOn"
      },
      "source": [
        "#data['region']= [region.search(str(x)).group(1) if city.search(str(x)) is not None else np.NaN\n",
        "#               for x in data['location']]"
      ],
      "execution_count": null,
      "outputs": []
    },
    {
      "cell_type": "code",
      "metadata": {
        "id": "zSpLpbD5wPmE"
      },
      "source": [
        "data['plz']= [plz.search(str(x)).group(1) if plz.search(str(x)) is not None else np.NaN\n",
        "               for x in data['location']]"
      ],
      "execution_count": null,
      "outputs": []
    },
    {
      "cell_type": "code",
      "metadata": {
        "id": "375AImCBCdfu"
      },
      "source": [
        "#get community name from zip-code from pgeocode/nominatim api\n",
        "data['city']= [nomi.query_postal_code(plz).community_name if pd.isna(plz)==False else \"\" for plz in data['plz']] "
      ],
      "execution_count": null,
      "outputs": []
    },
    {
      "cell_type": "code",
      "metadata": {
        "id": "iAqTYuYfD33_"
      },
      "source": [
        "data['city'].unique()"
      ],
      "execution_count": null,
      "outputs": []
    },
    {
      "cell_type": "code",
      "metadata": {
        "id": "H9v2yRLZILyH"
      },
      "source": [
        "landkreis = re.compile(\"Landkreis\")"
      ],
      "execution_count": null,
      "outputs": []
    },
    {
      "cell_type": "code",
      "metadata": {
        "id": "JXiDWpF7IRUM"
      },
      "source": [
        "data['is_lk'] = [True if landkreis.search(str(ct)) is not None else False for ct in data['city']]"
      ],
      "execution_count": null,
      "outputs": []
    },
    {
      "cell_type": "code",
      "metadata": {
        "id": "UtDnegL7qb7o"
      },
      "source": [
        "data.drop(['location'],axis=1,inplace=True)"
      ],
      "execution_count": null,
      "outputs": []
    },
    {
      "cell_type": "code",
      "metadata": {
        "id": "XtQE32rZx0QI"
      },
      "source": [
        "citycount = data.groupby('city')['url'].nunique()"
      ],
      "execution_count": null,
      "outputs": []
    },
    {
      "cell_type": "code",
      "metadata": {
        "id": "vxYOrDvCzX2T"
      },
      "source": [
        "pd.set_option(\"display.max_rows\", None)"
      ],
      "execution_count": null,
      "outputs": []
    },
    {
      "cell_type": "code",
      "metadata": {
        "id": "rkrNSYj80dp-"
      },
      "source": [
        "#convert city to other if it occurs less than 10 times\n",
        "data=data.apply(lambda x: x.mask(x.map(x.value_counts())<10, 'other') if x.name=='city' else x)"
      ],
      "execution_count": null,
      "outputs": []
    },
    {
      "cell_type": "code",
      "metadata": {
        "colab": {
          "base_uri": "https://localhost:8080/"
        },
        "id": "6jENPZOWyQKw",
        "outputId": "56bb4549-cd11-4e74-d7b8-876de81b5ab2"
      },
      "source": [
        "citycount"
      ],
      "execution_count": null,
      "outputs": [
        {
          "output_type": "execute_result",
          "data": {
            "text/plain": [
              "city\n",
              "                                      534\n",
              "Augsburg                               32\n",
              "Bayreuth                               16\n",
              "Berchtesgadener Land                    5\n",
              "Berlin, Stadt                         695\n",
              "Böblingen                              34\n",
              "Düren                                   6\n",
              "Düsseldorf, Stadt                      35\n",
              "Erding                                 21\n",
              "Essen, Stadt                           47\n",
              "Esslingen                              12\n",
              "Frankfurt am Main, Stadt              100\n",
              "Fürstenfeldbruck                       27\n",
              "Fürth                                   8\n",
              "Groß-Gerau                             17\n",
              "Göppingen                               9\n",
              "Hamburg, Freie und Hansestadt         147\n",
              "Ingolstadt                             23\n",
              "Karlsruhe                              10\n",
              "Kaufbeuren                              7\n",
              "Kreis Ostholstein                      11\n",
              "Kreis Pinneberg                        18\n",
              "Kreis Segeberg                         12\n",
              "Kreis Stormarn                         19\n",
              "Kreisfreie Stadt Bremen                14\n",
              "Kreisfreie Stadt Dresden              110\n",
              "Kreisfreie Stadt Leipzig              116\n",
              "Kreisfreie Stadt München              387\n",
              "Kreisfreie Stadt Potsdam               27\n",
              "Köln, Stadt                            61\n",
              "Landkreis Aschaffenburg                 7\n",
              "Landkreis Augsburg                     53\n",
              "Landkreis Bad Tölz-Wolfratshausen      11\n",
              "Landkreis Breisgau-Hochschwarzwald      8\n",
              "Landkreis Dachau                       20\n",
              "Landkreis Dahme-Spreewald              20\n",
              "Landkreis Ebersberg                    10\n",
              "Landkreis Fürth                        14\n",
              "Landkreis Heilbronn                    10\n",
              "Landkreis Kelheim                      17\n",
              "Landkreis Landsberg am Lech            22\n",
              "Landkreis Lörrach                       6\n",
              "Landkreis Mainz-Bingen                 15\n",
              "Landkreis München                      47\n",
              "Landkreis Oberhavel                    31\n",
              "Landkreis Potsdam-Mittelmark           22\n",
              "Landkreis Rosenheim                    11\n",
              "Landkreis Roth                          6\n",
              "Landkreis Schwandorf                   18\n",
              "Landkreis Sächsische Schweiz           11\n",
              "Landkreis Wittenberg                    9\n",
              "Landkreis Würzburg                      6\n",
              "Landshut                               11\n",
              "Ludwigsburg                            36\n",
              "Lübeck, Hansestadt                     21\n",
              "Main-Kinzig-Kreis                      53\n",
              "Main-Taunus-Kreis                      31\n",
              "Mettmann                                9\n",
              "Miesbach                                8\n",
              "Mönchengladbach, Stadt                 10\n",
              "Nürnberg                               64\n",
              "Nürnberger Land                        25\n",
              "Offenbach                              19\n",
              "Ostalbkreis                             6\n",
              "Regensburg                              7\n",
              "Region Hannover                       187\n",
              "Rems-Murr-Kreis                         9\n",
              "Reutlingen                              7\n",
              "Rhein-Erft-Kreis                       28\n",
              "Rhein-Neckar-Kreis                      7\n",
              "Rhein-Sieg-Kreis                        6\n",
              "Rheingau-Taunus-Kreis                  34\n",
              "Salzgitter, Stadt                      26\n",
              "Solingen, Stadt                        36\n",
              "Starnberg                              41\n",
              "Stuttgart                               7\n",
              "Wetteraukreis                          25\n",
              "Wiesbaden, Landeshauptstadt           107\n",
              "other                                 286\n",
              "Name: url, dtype: int64"
            ]
          },
          "metadata": {
            "tags": []
          },
          "execution_count": 405
        }
      ]
    },
    {
      "cell_type": "code",
      "metadata": {
        "colab": {
          "base_uri": "https://localhost:8080/"
        },
        "id": "OtWhClhZ2b0Y",
        "outputId": "86dcccc7-3b36-4871-c616-41cfa76401b4"
      },
      "source": [
        "data.columns"
      ],
      "execution_count": null,
      "outputs": [
        {
          "output_type": "execute_result",
          "data": {
            "text/plain": [
              "Index(['index', 'url', 'dev_status', 'is_unit', 'location', 'price', 'sqft',\n",
              "       'rooms', 'wohntyp', 'price-pred', 'region', 'is_lk',\n",
              "       'diff_from_prediction', 'schools5km'],\n",
              "      dtype='object')"
            ]
          },
          "metadata": {
            "tags": []
          },
          "execution_count": 16
        }
      ]
    },
    {
      "cell_type": "code",
      "metadata": {
        "colab": {
          "base_uri": "https://localhost:8080/"
        },
        "id": "KOd1qWQEOD7L",
        "outputId": "c1435523-28a7-4153-b259-c0bbc3d75a7a"
      },
      "source": [
        "data.wohntyp.unique()"
      ],
      "execution_count": null,
      "outputs": [
        {
          "output_type": "execute_result",
          "data": {
            "text/plain": [
              "array(['Eigentumswohnung', 'Doppelhaushalfte', 'Apartment',\n",
              "       'Etagenwohnung', 'Dachgeschosswohnung', 'Erdgeschosswohnung',\n",
              "       'Reihenhaus', nan, 'Penthouse', 'Maisonettewohnung',\n",
              "       'Terrassenwohnung', 'Einfamilienhaus', 'Souterrainwohnung',\n",
              "       'Reihenendhaus', 'Loft', 'Reihenmittelhaus', 'Galeriewohnung',\n",
              "       'Reiheneckhaus', 'Bungalow', 'Stadthaus', 'Townhouses'],\n",
              "      dtype=object)"
            ]
          },
          "metadata": {
            "tags": []
          },
          "execution_count": 320
        }
      ]
    },
    {
      "cell_type": "code",
      "metadata": {
        "id": "IJE8MdJMzBVa"
      },
      "source": [
        "data = data.drop(['price-pred','index','diff_from_prediction','location','url', 'is_unit'], axis=1)"
      ],
      "execution_count": null,
      "outputs": []
    },
    {
      "cell_type": "code",
      "metadata": {
        "id": "VZ5bbh3isOhO"
      },
      "source": [
        "X=data.dropna(subset=['price'])"
      ],
      "execution_count": null,
      "outputs": []
    },
    {
      "cell_type": "code",
      "metadata": {
        "id": "DflyjtQIrwXj"
      },
      "source": [
        "Y= X.pop('price')"
      ],
      "execution_count": null,
      "outputs": []
    },
    {
      "cell_type": "code",
      "metadata": {
        "id": "fvaSsNsrt8wd"
      },
      "source": [
        "num_feats = X.select_dtypes(include=['float64', 'int64']).columns\n",
        "cat_feats = X.select_dtypes('object').columns\n",
        "bin_feats = ['schools5km']\n"
      ],
      "execution_count": null,
      "outputs": []
    },
    {
      "cell_type": "code",
      "metadata": {
        "colab": {
          "base_uri": "https://localhost:8080/"
        },
        "id": "9sN1cG-sNUxR",
        "outputId": "739f70ac-08ad-44b0-9097-78ad1608e17b"
      },
      "source": [
        "cat_feats"
      ],
      "execution_count": null,
      "outputs": [
        {
          "output_type": "execute_result",
          "data": {
            "text/plain": [
              "Index(['dev_status', 'wohntyp', 'region'], dtype='object')"
            ]
          },
          "metadata": {
            "tags": []
          },
          "execution_count": 41
        }
      ]
    },
    {
      "cell_type": "code",
      "metadata": {
        "id": "bTkid2WbsSfM"
      },
      "source": [
        "#Train test split\n",
        "X_train, X_test, y_train, y_test = train_test_split(X,Y, test_size =0.1, random_state =42)"
      ],
      "execution_count": null,
      "outputs": []
    },
    {
      "cell_type": "code",
      "metadata": {
        "colab": {
          "base_uri": "https://localhost:8080/"
        },
        "id": "C96hrnVw2v06",
        "outputId": "d3055760-d2a4-4ad7-80b2-9dd574459768"
      },
      "source": [
        "X_train.dtypes"
      ],
      "execution_count": null,
      "outputs": [
        {
          "output_type": "execute_result",
          "data": {
            "text/plain": [
              "dev_status     object\n",
              "sqft          float64\n",
              "rooms         float64\n",
              "wohntyp        object\n",
              "region         object\n",
              "is_lk            bool\n",
              "schools5km    float64\n",
              "dtype: object"
            ]
          },
          "metadata": {
            "tags": []
          },
          "execution_count": 24
        }
      ]
    },
    {
      "cell_type": "code",
      "metadata": {
        "id": "6xJmX5a58J3Q"
      },
      "source": [
        "params = {\n",
        "          'xgb__learning_rate': [0.05, 0.1, 0.15, 0.2, 0.3], \n",
        "          'xgb__max_depth': [4, 5, 6,],\n",
        "          'xgb__min_child_weight': [1, 5, 10],\n",
        "          'xgb__gamma': [0.5, 1, 1.5, 2, 5],\n",
        "          'xgb__colsample_bytree': [0.4,0.6, 0.8, 1.0],\n",
        "          'xgb__subsample': [0.6, 0.8, 1.0],\n",
        "          'xgb__n_estimators' : [400]\n",
        "          }"
      ],
      "execution_count": null,
      "outputs": []
    },
    {
      "cell_type": "code",
      "metadata": {
        "id": "pksvIx1Utvk_"
      },
      "source": [
        "numeric_transformer = Pipeline(steps=[\n",
        "      ('imputer', SimpleImputer(strategy='median')),\n",
        "      ('scaler', StandardScaler())])\n",
        "\n",
        "cat_bin = Pipeline(steps= [\n",
        "                           \n",
        "      ('imputer', SimpleImputer(strategy='median'))          ,              \n",
        "      ('binning', KBinsDiscretizer(n_bins = 5, strategy='quantile'))                      \n",
        "\n",
        "])\n",
        "\n",
        "\n",
        "categorical_transformer = Pipeline(steps=[\n",
        "      ('imputer', SimpleImputer(strategy='constant')),\n",
        "      ('onehot', OneHotEncoder(handle_unknown='ignore'))])\n",
        "\n",
        "preprocessor = ColumnTransformer(\n",
        "      transformers=[\n",
        "          ('num', numeric_transformer, num_feats),\n",
        "          ('bin', cat_bin, bin_feats),\n",
        "          ('cat', categorical_transformer, cat_feats)])\n",
        "\n",
        "fullpipe = Pipeline([\n",
        "      ('prep', preprocessor),\n",
        "      ('xgb', xgb.XGBRegressor(objective='reg:squarederror'))\n",
        "])"
      ],
      "execution_count": null,
      "outputs": []
    },
    {
      "cell_type": "code",
      "metadata": {
        "colab": {
          "base_uri": "https://localhost:8080/"
        },
        "id": "ot25S-2URI7_",
        "outputId": "4a1838a3-7448-45ac-cab9-107a8d68a61c"
      },
      "source": [
        "#Random search Crossvalidation\n",
        "search = RandomizedSearchCV(n_iter=400, estimator = fullpipe, param_distributions=params,cv=10, return_train_score=True )\n",
        "search.fit(X_train,y_train)"
      ],
      "execution_count": null,
      "outputs": [
        {
          "output_type": "execute_result",
          "data": {
            "text/plain": [
              "RandomizedSearchCV(cv=10, error_score=nan,\n",
              "                   estimator=Pipeline(memory=None,\n",
              "                                      steps=[('prep',\n",
              "                                              ColumnTransformer(n_jobs=None,\n",
              "                                                                remainder='drop',\n",
              "                                                                sparse_threshold=0.3,\n",
              "                                                                transformer_weights=None,\n",
              "                                                                transformers=[('num',\n",
              "                                                                               Pipeline(memory=None,\n",
              "                                                                                        steps=[('imputer',\n",
              "                                                                                                SimpleImputer(add_indicator=False,\n",
              "                                                                                                              copy=True,\n",
              "                                                                                                              fill_value=None,\n",
              "                                                                                                              missing_values=nan,\n",
              "                                                                                                              strategy='median',\n",
              "                                                                                                              verbose=0)),\n",
              "                                                                                               (...\n",
              "                   param_distributions={'xgb__colsample_bytree': [0.4, 0.6, 0.8,\n",
              "                                                                  1.0],\n",
              "                                        'xgb__gamma': [0.5, 1, 1.5, 2, 5],\n",
              "                                        'xgb__learning_rate': [0.05, 0.1, 0.15,\n",
              "                                                               0.2, 0.3],\n",
              "                                        'xgb__max_depth': [4, 5, 6],\n",
              "                                        'xgb__min_child_weight': [1, 5, 10],\n",
              "                                        'xgb__n_estimators': [400],\n",
              "                                        'xgb__subsample': [0.6, 0.8, 1.0]},\n",
              "                   pre_dispatch='2*n_jobs', random_state=None, refit=True,\n",
              "                   return_train_score=True, scoring=None, verbose=0)"
            ]
          },
          "metadata": {
            "tags": []
          },
          "execution_count": 61
        }
      ]
    },
    {
      "cell_type": "code",
      "metadata": {
        "colab": {
          "base_uri": "https://localhost:8080/"
        },
        "id": "8J124j6aXnKV",
        "outputId": "a3671e6f-66ad-414a-961c-ab46832faa58"
      },
      "source": [
        "print(search.best_estimator_)"
      ],
      "execution_count": null,
      "outputs": [
        {
          "output_type": "stream",
          "text": [
            "Pipeline(memory=None,\n",
            "         steps=[('prep',\n",
            "                 ColumnTransformer(n_jobs=None, remainder='drop',\n",
            "                                   sparse_threshold=0.3,\n",
            "                                   transformer_weights=None,\n",
            "                                   transformers=[('num',\n",
            "                                                  Pipeline(memory=None,\n",
            "                                                           steps=[('imputer',\n",
            "                                                                   SimpleImputer(add_indicator=False,\n",
            "                                                                                 copy=True,\n",
            "                                                                                 fill_value=None,\n",
            "                                                                                 missing_values=nan,\n",
            "                                                                                 strategy='median',\n",
            "                                                                                 verbose=0)),\n",
            "                                                                  ('scaler',\n",
            "                                                                   StandardScaler(copy=True,\n",
            "                                                                                  with_mean=True,\n",
            "                                                                                  wi...\n",
            "                              colsample_bylevel=1, colsample_bynode=1,\n",
            "                              colsample_bytree=0.4, gamma=0.5,\n",
            "                              importance_type='gain', learning_rate=0.2,\n",
            "                              max_delta_step=0, max_depth=5, min_child_weight=5,\n",
            "                              missing=None, n_estimators=400, n_jobs=1,\n",
            "                              nthread=None, objective='reg:squarederror',\n",
            "                              random_state=0, reg_alpha=0, reg_lambda=1,\n",
            "                              scale_pos_weight=1, seed=None, silent=None,\n",
            "                              subsample=1.0, verbosity=1))],\n",
            "         verbose=False)\n"
          ],
          "name": "stdout"
        }
      ]
    },
    {
      "cell_type": "code",
      "metadata": {
        "colab": {
          "base_uri": "https://localhost:8080/"
        },
        "id": "1Zh4wliOXwEm",
        "outputId": "0faed2eb-970a-4591-f380-1bd58d317f82"
      },
      "source": [
        "print(search.best_score_)"
      ],
      "execution_count": null,
      "outputs": [
        {
          "output_type": "stream",
          "text": [
            "0.7257239789888235\n"
          ],
          "name": "stdout"
        }
      ]
    },
    {
      "cell_type": "code",
      "metadata": {
        "id": "T5mofmPkX-s6"
      },
      "source": [
        "best_est = search.best_estimator_\n",
        "\n",
        "best_est.fit(X_train, y_train)\n",
        "\n",
        "# predict\n",
        "train_preds = best_est.predict(X_train)\n",
        "test_preds = best_est.predict(X_test)"
      ],
      "execution_count": null,
      "outputs": []
    },
    {
      "cell_type": "code",
      "metadata": {
        "id": "Fv95L9kSRHm1",
        "colab": {
          "base_uri": "https://localhost:8080/"
        },
        "outputId": "b0361ef2-d0e4-416f-e8ba-e72d3d09ab0a"
      },
      "source": [
        "#save model\n",
        "from joblib import dump, load\n",
        "dump(best_est, 'model.joblib',) "
      ],
      "execution_count": null,
      "outputs": [
        {
          "output_type": "execute_result",
          "data": {
            "text/plain": [
              "['model.joblib']"
            ]
          },
          "metadata": {
            "tags": []
          },
          "execution_count": 400
        }
      ]
    },
    {
      "cell_type": "code",
      "metadata": {
        "colab": {
          "base_uri": "https://localhost:8080/",
          "height": 17
        },
        "id": "b9B0OQHDImfZ",
        "outputId": "d7f801ef-d45b-4499-c02b-0001e7cfa1b3"
      },
      "source": [
        "from google.colab import files\n",
        "files.download('model.joblib')"
      ],
      "execution_count": null,
      "outputs": [
        {
          "output_type": "display_data",
          "data": {
            "application/javascript": [
              "\n",
              "    async function download(id, filename, size) {\n",
              "      if (!google.colab.kernel.accessAllowed) {\n",
              "        return;\n",
              "      }\n",
              "      const div = document.createElement('div');\n",
              "      const label = document.createElement('label');\n",
              "      label.textContent = `Downloading \"${filename}\": `;\n",
              "      div.appendChild(label);\n",
              "      const progress = document.createElement('progress');\n",
              "      progress.max = size;\n",
              "      div.appendChild(progress);\n",
              "      document.body.appendChild(div);\n",
              "\n",
              "      const buffers = [];\n",
              "      let downloaded = 0;\n",
              "\n",
              "      const channel = await google.colab.kernel.comms.open(id);\n",
              "      // Send a message to notify the kernel that we're ready.\n",
              "      channel.send({})\n",
              "\n",
              "      for await (const message of channel.messages) {\n",
              "        // Send a message to notify the kernel that we're ready.\n",
              "        channel.send({})\n",
              "        if (message.buffers) {\n",
              "          for (const buffer of message.buffers) {\n",
              "            buffers.push(buffer);\n",
              "            downloaded += buffer.byteLength;\n",
              "            progress.value = downloaded;\n",
              "          }\n",
              "        }\n",
              "      }\n",
              "      const blob = new Blob(buffers, {type: 'application/binary'});\n",
              "      const a = document.createElement('a');\n",
              "      a.href = window.URL.createObjectURL(blob);\n",
              "      a.download = filename;\n",
              "      div.appendChild(a);\n",
              "      a.click();\n",
              "      div.remove();\n",
              "    }\n",
              "  "
            ],
            "text/plain": [
              "<IPython.core.display.Javascript object>"
            ]
          },
          "metadata": {
            "tags": []
          }
        },
        {
          "output_type": "display_data",
          "data": {
            "application/javascript": [
              "download(\"download_4e05e032-290d-4f74-af41-0788dde997f5\", \"model.joblib\", 307290)"
            ],
            "text/plain": [
              "<IPython.core.display.Javascript object>"
            ]
          },
          "metadata": {
            "tags": []
          }
        }
      ]
    },
    {
      "cell_type": "code",
      "metadata": {
        "id": "gjiIKVE-IDTp"
      },
      "source": [
        "from tempfile import mkdtemp\n",
        "savedir = mkdtemp()\n",
        "import os\n",
        "filename = os.path.join(savedir, 'test.joblib')"
      ],
      "execution_count": null,
      "outputs": []
    },
    {
      "cell_type": "code",
      "metadata": {
        "id": "KiF02yPowu4i"
      },
      "source": [
        "train_mae = mean_absolute_error(y_train,train_preds)\n",
        "test_mae = mean_absolute_error(y_test,test_preds)\n",
        "train_mse = mean_squared_error(y_train,train_preds)\n",
        "test_mse = mean_squared_error(y_test,test_preds)"
      ],
      "execution_count": null,
      "outputs": []
    },
    {
      "cell_type": "markdown",
      "metadata": {
        "id": "XyQq8qJ1YVtm"
      },
      "source": [
        "with 5kmschools binned\n",
        "\n"
      ]
    },
    {
      "cell_type": "code",
      "metadata": {
        "colab": {
          "base_uri": "https://localhost:8080/"
        },
        "id": "AFB2WQmezjjL",
        "outputId": "f1788883-a0d4-4100-edc2-41edc0b5819f"
      },
      "source": [
        "print(\"train_mae: %f test_mae: %f\" % (train_mae,test_mae))"
      ],
      "execution_count": null,
      "outputs": [
        {
          "output_type": "stream",
          "text": [
            "train_mae: 74092.812718 test_mae: 117937.596821\n"
          ],
          "name": "stdout"
        }
      ]
    },
    {
      "cell_type": "markdown",
      "metadata": {
        "id": "zKI2h4e4YZG-"
      },
      "source": [
        "without"
      ]
    },
    {
      "cell_type": "code",
      "metadata": {
        "colab": {
          "base_uri": "https://localhost:8080/"
        },
        "id": "2vFHwY9dYXts",
        "outputId": "a9a0c166-1f5a-448b-d99b-86fc93d4a7ec"
      },
      "source": [
        "print(\"train_mae: %f test_mae: %f train mse %f test mse %f\" % (train_mae,test_mae, train_mse, test_mse))"
      ],
      "execution_count": null,
      "outputs": [
        {
          "output_type": "stream",
          "text": [
            "train_mae: 110081.172034 test_mae: 137530.861509 train mse 44041765957.161949 test mse 126616424990.404556\n"
          ],
          "name": "stdout"
        }
      ]
    },
    {
      "cell_type": "code",
      "metadata": {
        "colab": {
          "base_uri": "https://localhost:8080/"
        },
        "id": "La2c-RH8o3Pz",
        "outputId": "5c4ae9c6-bf94-4cbf-8d62-62d8a54be41f"
      },
      "source": [
        "len(data)"
      ],
      "execution_count": null,
      "outputs": [
        {
          "output_type": "execute_result",
          "data": {
            "text/plain": [
              "5206"
            ]
          },
          "metadata": {
            "tags": []
          },
          "execution_count": 365
        }
      ]
    },
    {
      "cell_type": "code",
      "metadata": {
        "id": "4UlCwPUirVX5"
      },
      "source": [
        "#retrain on full dataset\n",
        "X = data\n",
        "Y=X.pop('price')"
      ],
      "execution_count": null,
      "outputs": []
    },
    {
      "cell_type": "code",
      "metadata": {
        "colab": {
          "base_uri": "https://localhost:8080/"
        },
        "id": "qPGE1G-9q805",
        "outputId": "443e9916-3dd1-4214-c0c8-b95c31b59017"
      },
      "source": [
        "best_est.fit(X,Y)"
      ],
      "execution_count": null,
      "outputs": [
        {
          "output_type": "execute_result",
          "data": {
            "text/plain": [
              "Pipeline(memory=None,\n",
              "         steps=[('prep',\n",
              "                 ColumnTransformer(n_jobs=None, remainder='drop',\n",
              "                                   sparse_threshold=0.3,\n",
              "                                   transformer_weights=None,\n",
              "                                   transformers=[('num',\n",
              "                                                  Pipeline(memory=None,\n",
              "                                                           steps=[('imputer',\n",
              "                                                                   SimpleImputer(add_indicator=False,\n",
              "                                                                                 copy=True,\n",
              "                                                                                 fill_value=None,\n",
              "                                                                                 missing_values=nan,\n",
              "                                                                                 strategy='median',\n",
              "                                                                                 verbose=0)),\n",
              "                                                                  ('scaler',\n",
              "                                                                   StandardScaler(copy=True,\n",
              "                                                                                  with_mean=True,\n",
              "                                                                                  wi...\n",
              "                              colsample_bylevel=1, colsample_bynode=1,\n",
              "                              colsample_bytree=0.6, gamma=1,\n",
              "                              importance_type='gain', learning_rate=0.1,\n",
              "                              max_delta_step=0, max_depth=4, min_child_weight=5,\n",
              "                              missing=None, n_estimators=400, n_jobs=1,\n",
              "                              nthread=None, objective='reg:squarederror',\n",
              "                              random_state=0, reg_alpha=0, reg_lambda=1,\n",
              "                              scale_pos_weight=1, seed=None, silent=None,\n",
              "                              subsample=0.8, verbosity=1))],\n",
              "         verbose=False)"
            ]
          },
          "metadata": {
            "tags": []
          },
          "execution_count": 385
        }
      ]
    },
    {
      "cell_type": "code",
      "metadata": {
        "id": "OMnU828ZrhIX"
      },
      "source": [
        "predictions = best_est.predict(X)"
      ],
      "execution_count": null,
      "outputs": []
    },
    {
      "cell_type": "code",
      "metadata": {
        "id": "EN4pBwmis92k"
      },
      "source": [
        "df['price-pred']=predictions"
      ],
      "execution_count": null,
      "outputs": []
    },
    {
      "cell_type": "code",
      "metadata": {
        "id": "38Na6nVTtzGR"
      },
      "source": [
        "df['region']=data['city']"
      ],
      "execution_count": null,
      "outputs": []
    },
    {
      "cell_type": "code",
      "metadata": {
        "id": "ufuw3Wn6uCoS"
      },
      "source": [
        "df['is_lk']=data['is_lk']"
      ],
      "execution_count": null,
      "outputs": []
    },
    {
      "cell_type": "code",
      "metadata": {
        "id": "X7rIJGLmu23O"
      },
      "source": [
        "df['diff_from_prediction']=(df['price']-df['price-pred'])/df['price']"
      ],
      "execution_count": null,
      "outputs": []
    },
    {
      "cell_type": "code",
      "metadata": {
        "colab": {
          "base_uri": "https://localhost:8080/"
        },
        "id": "6u0k5GotuRgm",
        "outputId": "938d9687-4d18-45fb-a39b-14487341ee66"
      },
      "source": [
        "df.columns"
      ],
      "execution_count": null,
      "outputs": [
        {
          "output_type": "execute_result",
          "data": {
            "text/plain": [
              "Index(['url', 'text', 'cleantext', 'dev_status', 'address_sc', 'address_clean',\n",
              "       'is_unit', 'location', 'point', 'latitude', 'longitude', 'allprice',\n",
              "       'allrooms', 'allsqft', 'price', 'sqft', 'rooms', 'unit_id', 'wohntyp',\n",
              "       'price-pred', 'region', 'is_lk'],\n",
              "      dtype='object')"
            ]
          },
          "metadata": {
            "tags": []
          },
          "execution_count": 395
        }
      ]
    },
    {
      "cell_type": "code",
      "metadata": {
        "id": "XrHnomgkudwd"
      },
      "source": [
        "df.to_csv('alldata.csv')"
      ],
      "execution_count": null,
      "outputs": []
    },
    {
      "cell_type": "code",
      "metadata": {
        "id": "dUW5OQRnzIsT"
      },
      "source": [
        "wohntypen = df['wohntyp'].unique()"
      ],
      "execution_count": null,
      "outputs": []
    },
    {
      "cell_type": "code",
      "metadata": {
        "colab": {
          "base_uri": "https://localhost:8080/"
        },
        "id": "oNiCYbnlzPic",
        "outputId": "694d4953-1056-40b2-bc0b-a148f143fbf0"
      },
      "source": [
        "wohntypen"
      ],
      "execution_count": null,
      "outputs": [
        {
          "output_type": "execute_result",
          "data": {
            "text/plain": [
              "array(['Eigentumswohnung', 'Doppelhaushalfte', 'Apartment',\n",
              "       'Etagenwohnung', 'Dachgeschosswohnung', 'Erdgeschosswohnung',\n",
              "       'Reihenhaus', nan, 'Penthouse', 'Maisonettewohnung',\n",
              "       'Terrassenwohnung', 'Einfamilienhaus', 'Souterrainwohnung',\n",
              "       'Reihenendhaus', 'Loft', 'Reihenmittelhaus', 'Galeriewohnung',\n",
              "       'Reiheneckhaus', 'Bungalow', 'Stadthaus', 'Townhouses'],\n",
              "      dtype=object)"
            ]
          },
          "metadata": {
            "tags": []
          },
          "execution_count": 404
        }
      ]
    },
    {
      "cell_type": "code",
      "metadata": {
        "id": "9jZ2XYYk3-9U"
      },
      "source": [
        "regions = df['region'].unique()"
      ],
      "execution_count": null,
      "outputs": []
    },
    {
      "cell_type": "code",
      "metadata": {
        "colab": {
          "base_uri": "https://localhost:8080/"
        },
        "id": "iV-Uqx4A-LpZ",
        "outputId": "b88d5e1a-eb1d-4238-e68f-a93613adcddc"
      },
      "source": [
        "regions"
      ],
      "execution_count": null,
      "outputs": [
        {
          "output_type": "execute_result",
          "data": {
            "text/plain": [
              "array(['Berlin, Stadt', 'Landkreis Oberhavel', 'Kreisfreie Stadt Potsdam',\n",
              "       'other', 'Landkreis Heilbronn', '', 'Landkreis Potsdam-Mittelmark',\n",
              "       'Kreisfreie Stadt Dresden', 'Landkreis Dahme-Spreewald',\n",
              "       'Frankfurt am Main, Stadt', 'Berchtesgadener Land',\n",
              "       'Kreisfreie Stadt München', 'Landkreis Rosenheim', 'Miesbach',\n",
              "       'Landshut', 'Starnberg', 'Landkreis München',\n",
              "       'Landkreis Wittenberg', 'Fürstenfeldbruck', 'Landkreis Ebersberg',\n",
              "       'Landkreis Dachau', 'Kaufbeuren',\n",
              "       'Landkreis Bad Tölz-Wolfratshausen', 'Erding',\n",
              "       'Landkreis Landsberg am Lech', 'Wiesbaden, Landeshauptstadt',\n",
              "       'Main-Kinzig-Kreis', 'Salzgitter, Stadt', 'Kreis Ostholstein',\n",
              "       'Rheingau-Taunus-Kreis', 'Landkreis Mainz-Bingen',\n",
              "       'Landkreis Aschaffenburg', 'Offenbach', 'Wetteraukreis',\n",
              "       'Main-Taunus-Kreis', 'Groß-Gerau', 'Kreis Pinneberg',\n",
              "       'Kreis Stormarn', 'Hamburg, Freie und Hansestadt',\n",
              "       'Kreis Segeberg', 'Lübeck, Hansestadt', 'Mönchengladbach, Stadt',\n",
              "       'Solingen, Stadt', 'Mettmann', 'Essen, Stadt', 'Düsseldorf, Stadt',\n",
              "       'Ludwigsburg', 'Göppingen', 'Böblingen', 'Reutlingen', 'Stuttgart',\n",
              "       'Esslingen', 'Rems-Murr-Kreis', 'Kreisfreie Stadt Bremen',\n",
              "       'Ostalbkreis', 'Karlsruhe', 'Nürnberger Land', 'Fürth',\n",
              "       'Landkreis Schwandorf', 'Nürnberg', 'Landkreis Roth',\n",
              "       'Landkreis Fürth', 'Kreisfreie Stadt Leipzig', 'Bayreuth', 'Düren',\n",
              "       'Köln, Stadt', 'Rhein-Erft-Kreis', 'Rhein-Sieg-Kreis',\n",
              "       'Landkreis Augsburg', 'Augsburg', 'Landkreis Sächsische Schweiz',\n",
              "       'Landkreis Breisgau-Hochschwarzwald', 'Landkreis Lörrach',\n",
              "       'Region Hannover', 'Rhein-Neckar-Kreis', 'Ingolstadt',\n",
              "       'Landkreis Kelheim', 'Regensburg', 'Landkreis Würzburg'],\n",
              "      dtype=object)"
            ]
          },
          "metadata": {
            "tags": []
          },
          "execution_count": 420
        }
      ]
    },
    {
      "cell_type": "code",
      "metadata": {
        "id": "VYwZGLog_dyA"
      },
      "source": [
        "#Create Dataset for Dash App\n",
        "adf = pd.read_csv('alldata.csv', index_col=0)"
      ],
      "execution_count": null,
      "outputs": []
    },
    {
      "cell_type": "code",
      "metadata": {
        "id": "BuSPFg7B_m04"
      },
      "source": [
        "dashdata = adf.drop(['cleantext', 'address_sc','is_unit','point'], axis=1)"
      ],
      "execution_count": null,
      "outputs": []
    },
    {
      "cell_type": "code",
      "metadata": {
        "id": "r9skopWuA3MP"
      },
      "source": [
        "dashdata['Name']= [url.replace(\"https://www.neubaukompass.de/neubau/\",\"\").replace(\"https://www.howoge.de/wohnungsbau/neubauprojekte/\",\"\").replace(\".html\",\"\").replace(\"/\",\" \").replace(\"-\",\" \").split(\" \") for url in dashdata.url]"
      ],
      "execution_count": null,
      "outputs": []
    },
    {
      "cell_type": "code",
      "metadata": {
        "id": "p-fNWiGvCS6n"
      },
      "source": [
        "dashdata['Name']= [[t.capitalize() for t in text ] for text in dashdata['Name']]"
      ],
      "execution_count": null,
      "outputs": []
    },
    {
      "cell_type": "code",
      "metadata": {
        "id": "sftWTJL5CnVM"
      },
      "source": [
        "dashdata['Name']= [\" \".join(text) for text in dashdata['Name']]"
      ],
      "execution_count": null,
      "outputs": []
    },
    {
      "cell_type": "code",
      "metadata": {
        "id": "1uF-gmacJ1E0"
      },
      "source": [
        "dashdata['Price']= [ \"€{:,.2f}\".format(price) for price in dashdata['price']]"
      ],
      "execution_count": null,
      "outputs": []
    },
    {
      "cell_type": "code",
      "metadata": {
        "id": "r06XxSKULQ6x"
      },
      "source": [
        "dashdata['Predicted price']= [ \"€{:,.2f}\".format(price) for price in dashdata['price-pred']]"
      ],
      "execution_count": null,
      "outputs": []
    },
    {
      "cell_type": "code",
      "metadata": {
        "id": "BW9iFNAkLpAl"
      },
      "source": [
        "dashdata['Living space'] = [\"{:,.0f} m²\".format(price) for price in dashdata['sqft']]"
      ],
      "execution_count": null,
      "outputs": []
    },
    {
      "cell_type": "code",
      "metadata": {
        "id": "0ZK9g5wAMe1L"
      },
      "source": [
        "dashdata['Status'] = dashdata['dev_status']"
      ],
      "execution_count": null,
      "outputs": []
    },
    {
      "cell_type": "code",
      "metadata": {
        "id": "g3LP3MUAPO1D"
      },
      "source": [
        "dashdata['Number of rooms'] = dashdata['rooms']"
      ],
      "execution_count": null,
      "outputs": []
    },
    {
      "cell_type": "code",
      "metadata": {
        "id": "U4daMyKJNIxz"
      },
      "source": [
        "dashdata=dashdata.rename(columns={\"wohntyp\": \"Wohntyp\", \"address_clean\": \"Address\"})"
      ],
      "execution_count": null,
      "outputs": []
    },
    {
      "cell_type": "code",
      "metadata": {
        "id": "gSRZKaRFEWTA"
      },
      "source": [
        "dashdata.to_csv('dashdata.csv')"
      ],
      "execution_count": null,
      "outputs": []
    }
  ]
}