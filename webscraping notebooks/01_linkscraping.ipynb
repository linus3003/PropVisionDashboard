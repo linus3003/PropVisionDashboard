{
  "nbformat": 4,
  "nbformat_minor": 0,
  "metadata": {
    "colab": {
      "name": "linkscraping.ipynb",
      "provenance": [],
      "collapsed_sections": [],
      "mount_file_id": "1CfEc8VCG_7f6yqQ0T7NoKm4r_mUP0D3z",
      "authorship_tag": "ABX9TyNhFDcx+0JkPYJFGXpC42JK",
      "include_colab_link": true
    },
    "kernelspec": {
      "name": "python3",
      "display_name": "Python 3"
    }
  },
  "cells": [
    {
      "cell_type": "markdown",
      "metadata": {
        "id": "view-in-github",
        "colab_type": "text"
      },
      "source": [
        "<a href=\"https://colab.research.google.com/github/linus3003/PropVisionDashboard/blob/master/linkscraping.ipynb\" target=\"_parent\"><img src=\"https://colab.research.google.com/assets/colab-badge.svg\" alt=\"Open In Colab\"/></a>"
      ]
    },
    {
      "cell_type": "code",
      "metadata": {
        "id": "1zX62QdDktSG",
        "colab": {
          "base_uri": "https://localhost:8080/"
        },
        "outputId": "c0dd41d6-d0b3-498b-c440-e86a3e4b4009"
      },
      "source": [
        "!pip install selenium\n",
        "!apt-get update # to update ubuntu to correctly run apt install\n",
        "!apt install chromium-chromedriver\n",
        "!pip install unidecode\n",
        "!cp /usr/lib/chromium-browser/chromedriver /usr/bin\n",
        "import sys\n",
        "sys.path.insert(0,'/usr/lib/chromium-browser/chromedriver')\n",
        "from selenium import webdriver\n",
        "chrome_options = webdriver.ChromeOptions()\n",
        "chrome_options.add_argument('--headless')\n",
        "chrome_options.add_argument('--no-sandbox')\n",
        "chrome_options.add_argument('--disable-dev-shm-usage')"
      ],
      "execution_count": 1,
      "outputs": [
        {
          "output_type": "stream",
          "text": [
            "Collecting selenium\n",
            "\u001b[?25l  Downloading https://files.pythonhosted.org/packages/80/d6/4294f0b4bce4de0abf13e17190289f9d0613b0a44e5dd6a7f5ca98459853/selenium-3.141.0-py2.py3-none-any.whl (904kB)\n",
            "\r\u001b[K     |▍                               | 10kB 16.6MB/s eta 0:00:01\r\u001b[K     |▊                               | 20kB 11.8MB/s eta 0:00:01\r\u001b[K     |█                               | 30kB 9.0MB/s eta 0:00:01\r\u001b[K     |█▌                              | 40kB 7.7MB/s eta 0:00:01\r\u001b[K     |█▉                              | 51kB 4.3MB/s eta 0:00:01\r\u001b[K     |██▏                             | 61kB 4.6MB/s eta 0:00:01\r\u001b[K     |██▌                             | 71kB 4.9MB/s eta 0:00:01\r\u001b[K     |███                             | 81kB 5.1MB/s eta 0:00:01\r\u001b[K     |███▎                            | 92kB 5.6MB/s eta 0:00:01\r\u001b[K     |███▋                            | 102kB 5.6MB/s eta 0:00:01\r\u001b[K     |████                            | 112kB 5.6MB/s eta 0:00:01\r\u001b[K     |████▍                           | 122kB 5.6MB/s eta 0:00:01\r\u001b[K     |████▊                           | 133kB 5.6MB/s eta 0:00:01\r\u001b[K     |█████                           | 143kB 5.6MB/s eta 0:00:01\r\u001b[K     |█████▍                          | 153kB 5.6MB/s eta 0:00:01\r\u001b[K     |█████▉                          | 163kB 5.6MB/s eta 0:00:01\r\u001b[K     |██████▏                         | 174kB 5.6MB/s eta 0:00:01\r\u001b[K     |██████▌                         | 184kB 5.6MB/s eta 0:00:01\r\u001b[K     |██████▉                         | 194kB 5.6MB/s eta 0:00:01\r\u001b[K     |███████▎                        | 204kB 5.6MB/s eta 0:00:01\r\u001b[K     |███████▋                        | 215kB 5.6MB/s eta 0:00:01\r\u001b[K     |████████                        | 225kB 5.6MB/s eta 0:00:01\r\u001b[K     |████████▎                       | 235kB 5.6MB/s eta 0:00:01\r\u001b[K     |████████▊                       | 245kB 5.6MB/s eta 0:00:01\r\u001b[K     |█████████                       | 256kB 5.6MB/s eta 0:00:01\r\u001b[K     |█████████▍                      | 266kB 5.6MB/s eta 0:00:01\r\u001b[K     |█████████▉                      | 276kB 5.6MB/s eta 0:00:01\r\u001b[K     |██████████▏                     | 286kB 5.6MB/s eta 0:00:01\r\u001b[K     |██████████▌                     | 296kB 5.6MB/s eta 0:00:01\r\u001b[K     |██████████▉                     | 307kB 5.6MB/s eta 0:00:01\r\u001b[K     |███████████▎                    | 317kB 5.6MB/s eta 0:00:01\r\u001b[K     |███████████▋                    | 327kB 5.6MB/s eta 0:00:01\r\u001b[K     |████████████                    | 337kB 5.6MB/s eta 0:00:01\r\u001b[K     |████████████▎                   | 348kB 5.6MB/s eta 0:00:01\r\u001b[K     |████████████▊                   | 358kB 5.6MB/s eta 0:00:01\r\u001b[K     |█████████████                   | 368kB 5.6MB/s eta 0:00:01\r\u001b[K     |█████████████▍                  | 378kB 5.6MB/s eta 0:00:01\r\u001b[K     |█████████████▊                  | 389kB 5.6MB/s eta 0:00:01\r\u001b[K     |██████████████▏                 | 399kB 5.6MB/s eta 0:00:01\r\u001b[K     |██████████████▌                 | 409kB 5.6MB/s eta 0:00:01\r\u001b[K     |██████████████▉                 | 419kB 5.6MB/s eta 0:00:01\r\u001b[K     |███████████████▏                | 430kB 5.6MB/s eta 0:00:01\r\u001b[K     |███████████████▋                | 440kB 5.6MB/s eta 0:00:01\r\u001b[K     |████████████████                | 450kB 5.6MB/s eta 0:00:01\r\u001b[K     |████████████████▎               | 460kB 5.6MB/s eta 0:00:01\r\u001b[K     |████████████████▋               | 471kB 5.6MB/s eta 0:00:01\r\u001b[K     |█████████████████               | 481kB 5.6MB/s eta 0:00:01\r\u001b[K     |█████████████████▍              | 491kB 5.6MB/s eta 0:00:01\r\u001b[K     |█████████████████▊              | 501kB 5.6MB/s eta 0:00:01\r\u001b[K     |██████████████████▏             | 512kB 5.6MB/s eta 0:00:01\r\u001b[K     |██████████████████▌             | 522kB 5.6MB/s eta 0:00:01\r\u001b[K     |██████████████████▉             | 532kB 5.6MB/s eta 0:00:01\r\u001b[K     |███████████████████▏            | 542kB 5.6MB/s eta 0:00:01\r\u001b[K     |███████████████████▋            | 552kB 5.6MB/s eta 0:00:01\r\u001b[K     |████████████████████            | 563kB 5.6MB/s eta 0:00:01\r\u001b[K     |████████████████████▎           | 573kB 5.6MB/s eta 0:00:01\r\u001b[K     |████████████████████▋           | 583kB 5.6MB/s eta 0:00:01\r\u001b[K     |█████████████████████           | 593kB 5.6MB/s eta 0:00:01\r\u001b[K     |█████████████████████▍          | 604kB 5.6MB/s eta 0:00:01\r\u001b[K     |█████████████████████▊          | 614kB 5.6MB/s eta 0:00:01\r\u001b[K     |██████████████████████          | 624kB 5.6MB/s eta 0:00:01\r\u001b[K     |██████████████████████▌         | 634kB 5.6MB/s eta 0:00:01\r\u001b[K     |██████████████████████▉         | 645kB 5.6MB/s eta 0:00:01\r\u001b[K     |███████████████████████▏        | 655kB 5.6MB/s eta 0:00:01\r\u001b[K     |███████████████████████▌        | 665kB 5.6MB/s eta 0:00:01\r\u001b[K     |████████████████████████        | 675kB 5.6MB/s eta 0:00:01\r\u001b[K     |████████████████████████▎       | 686kB 5.6MB/s eta 0:00:01\r\u001b[K     |████████████████████████▋       | 696kB 5.6MB/s eta 0:00:01\r\u001b[K     |█████████████████████████       | 706kB 5.6MB/s eta 0:00:01\r\u001b[K     |█████████████████████████▍      | 716kB 5.6MB/s eta 0:00:01\r\u001b[K     |█████████████████████████▊      | 727kB 5.6MB/s eta 0:00:01\r\u001b[K     |██████████████████████████      | 737kB 5.6MB/s eta 0:00:01\r\u001b[K     |██████████████████████████▍     | 747kB 5.6MB/s eta 0:00:01\r\u001b[K     |██████████████████████████▉     | 757kB 5.6MB/s eta 0:00:01\r\u001b[K     |███████████████████████████▏    | 768kB 5.6MB/s eta 0:00:01\r\u001b[K     |███████████████████████████▌    | 778kB 5.6MB/s eta 0:00:01\r\u001b[K     |████████████████████████████    | 788kB 5.6MB/s eta 0:00:01\r\u001b[K     |████████████████████████████▎   | 798kB 5.6MB/s eta 0:00:01\r\u001b[K     |████████████████████████████▋   | 808kB 5.6MB/s eta 0:00:01\r\u001b[K     |█████████████████████████████   | 819kB 5.6MB/s eta 0:00:01\r\u001b[K     |█████████████████████████████▍  | 829kB 5.6MB/s eta 0:00:01\r\u001b[K     |█████████████████████████████▊  | 839kB 5.6MB/s eta 0:00:01\r\u001b[K     |██████████████████████████████  | 849kB 5.6MB/s eta 0:00:01\r\u001b[K     |██████████████████████████████▍ | 860kB 5.6MB/s eta 0:00:01\r\u001b[K     |██████████████████████████████▉ | 870kB 5.6MB/s eta 0:00:01\r\u001b[K     |███████████████████████████████▏| 880kB 5.6MB/s eta 0:00:01\r\u001b[K     |███████████████████████████████▌| 890kB 5.6MB/s eta 0:00:01\r\u001b[K     |███████████████████████████████▉| 901kB 5.6MB/s eta 0:00:01\r\u001b[K     |████████████████████████████████| 911kB 5.6MB/s \n",
            "\u001b[?25hRequirement already satisfied: urllib3 in /usr/local/lib/python3.6/dist-packages (from selenium) (1.24.3)\n",
            "Installing collected packages: selenium\n",
            "Successfully installed selenium-3.141.0\n",
            "Get:1 http://security.ubuntu.com/ubuntu bionic-security InRelease [88.7 kB]\n",
            "Get:2 https://cloud.r-project.org/bin/linux/ubuntu bionic-cran40/ InRelease [3,626 B]\n",
            "Ign:3 https://developer.download.nvidia.com/compute/cuda/repos/ubuntu1804/x86_64  InRelease\n",
            "Get:4 http://ppa.launchpad.net/c2d4u.team/c2d4u4.0+/ubuntu bionic InRelease [15.9 kB]\n",
            "Hit:5 http://archive.ubuntu.com/ubuntu bionic InRelease\n",
            "Ign:6 https://developer.download.nvidia.com/compute/machine-learning/repos/ubuntu1804/x86_64  InRelease\n",
            "Hit:7 https://developer.download.nvidia.com/compute/cuda/repos/ubuntu1804/x86_64  Release\n",
            "Get:8 https://developer.download.nvidia.com/compute/machine-learning/repos/ubuntu1804/x86_64  Release [564 B]\n",
            "Get:9 https://developer.download.nvidia.com/compute/machine-learning/repos/ubuntu1804/x86_64  Release.gpg [833 B]\n",
            "Get:10 http://archive.ubuntu.com/ubuntu bionic-updates InRelease [88.7 kB]\n",
            "Hit:11 http://ppa.launchpad.net/cran/libgit2/ubuntu bionic InRelease\n",
            "Get:12 http://security.ubuntu.com/ubuntu bionic-security/main amd64 Packages [1,872 kB]\n",
            "Get:13 http://archive.ubuntu.com/ubuntu bionic-backports InRelease [74.6 kB]\n",
            "Get:14 http://security.ubuntu.com/ubuntu bionic-security/restricted amd64 Packages [278 kB]\n",
            "Get:15 http://security.ubuntu.com/ubuntu bionic-security/universe amd64 Packages [1,376 kB]\n",
            "Get:16 http://ppa.launchpad.net/graphics-drivers/ppa/ubuntu bionic InRelease [21.3 kB]\n",
            "Get:17 https://cloud.r-project.org/bin/linux/ubuntu bionic-cran40/ Packages [43.2 kB]\n",
            "Get:19 http://ppa.launchpad.net/c2d4u.team/c2d4u4.0+/ubuntu bionic/main Sources [1,707 kB]\n",
            "Get:20 https://developer.download.nvidia.com/compute/machine-learning/repos/ubuntu1804/x86_64  Packages [66.5 kB]\n",
            "Get:21 http://archive.ubuntu.com/ubuntu bionic-updates/multiverse amd64 Packages [45.6 kB]\n",
            "Get:22 http://archive.ubuntu.com/ubuntu bionic-updates/universe amd64 Packages [2,140 kB]\n",
            "Get:23 http://ppa.launchpad.net/c2d4u.team/c2d4u4.0+/ubuntu bionic/main amd64 Packages [874 kB]\n",
            "Get:24 http://archive.ubuntu.com/ubuntu bionic-updates/restricted amd64 Packages [304 kB]\n",
            "Get:25 http://archive.ubuntu.com/ubuntu bionic-updates/main amd64 Packages [2,298 kB]\n",
            "Get:26 http://ppa.launchpad.net/graphics-drivers/ppa/ubuntu bionic/main amd64 Packages [49.2 kB]\n",
            "Fetched 11.3 MB in 3s (3,493 kB/s)\n",
            "Reading package lists... Done\n",
            "Reading package lists... Done\n",
            "Building dependency tree       \n",
            "Reading state information... Done\n",
            "The following additional packages will be installed:\n",
            "  chromium-browser chromium-browser-l10n chromium-codecs-ffmpeg-extra\n",
            "Suggested packages:\n",
            "  webaccounts-chromium-extension unity-chromium-extension adobe-flashplugin\n",
            "The following NEW packages will be installed:\n",
            "  chromium-browser chromium-browser-l10n chromium-chromedriver\n",
            "  chromium-codecs-ffmpeg-extra\n",
            "0 upgraded, 4 newly installed, 0 to remove and 39 not upgraded.\n",
            "Need to get 81.0 MB of archives.\n",
            "After this operation, 273 MB of additional disk space will be used.\n",
            "Get:1 http://archive.ubuntu.com/ubuntu bionic-updates/universe amd64 chromium-codecs-ffmpeg-extra amd64 87.0.4280.66-0ubuntu0.18.04.1 [1,122 kB]\n",
            "Get:2 http://archive.ubuntu.com/ubuntu bionic-updates/universe amd64 chromium-browser amd64 87.0.4280.66-0ubuntu0.18.04.1 [71.7 MB]\n",
            "Get:3 http://archive.ubuntu.com/ubuntu bionic-updates/universe amd64 chromium-browser-l10n all 87.0.4280.66-0ubuntu0.18.04.1 [3,716 kB]\n",
            "Get:4 http://archive.ubuntu.com/ubuntu bionic-updates/universe amd64 chromium-chromedriver amd64 87.0.4280.66-0ubuntu0.18.04.1 [4,488 kB]\n",
            "Fetched 81.0 MB in 3s (23.2 MB/s)\n",
            "Selecting previously unselected package chromium-codecs-ffmpeg-extra.\n",
            "(Reading database ... 145483 files and directories currently installed.)\n",
            "Preparing to unpack .../chromium-codecs-ffmpeg-extra_87.0.4280.66-0ubuntu0.18.04.1_amd64.deb ...\n",
            "Unpacking chromium-codecs-ffmpeg-extra (87.0.4280.66-0ubuntu0.18.04.1) ...\n",
            "Selecting previously unselected package chromium-browser.\n",
            "Preparing to unpack .../chromium-browser_87.0.4280.66-0ubuntu0.18.04.1_amd64.deb ...\n",
            "Unpacking chromium-browser (87.0.4280.66-0ubuntu0.18.04.1) ...\n",
            "Selecting previously unselected package chromium-browser-l10n.\n",
            "Preparing to unpack .../chromium-browser-l10n_87.0.4280.66-0ubuntu0.18.04.1_all.deb ...\n",
            "Unpacking chromium-browser-l10n (87.0.4280.66-0ubuntu0.18.04.1) ...\n",
            "Selecting previously unselected package chromium-chromedriver.\n",
            "Preparing to unpack .../chromium-chromedriver_87.0.4280.66-0ubuntu0.18.04.1_amd64.deb ...\n",
            "Unpacking chromium-chromedriver (87.0.4280.66-0ubuntu0.18.04.1) ...\n",
            "Setting up chromium-codecs-ffmpeg-extra (87.0.4280.66-0ubuntu0.18.04.1) ...\n",
            "Setting up chromium-browser (87.0.4280.66-0ubuntu0.18.04.1) ...\n",
            "update-alternatives: using /usr/bin/chromium-browser to provide /usr/bin/x-www-browser (x-www-browser) in auto mode\n",
            "update-alternatives: using /usr/bin/chromium-browser to provide /usr/bin/gnome-www-browser (gnome-www-browser) in auto mode\n",
            "Setting up chromium-chromedriver (87.0.4280.66-0ubuntu0.18.04.1) ...\n",
            "Setting up chromium-browser-l10n (87.0.4280.66-0ubuntu0.18.04.1) ...\n",
            "Processing triggers for hicolor-icon-theme (0.17-2) ...\n",
            "Processing triggers for mime-support (3.60ubuntu1) ...\n",
            "Processing triggers for man-db (2.8.3-2ubuntu0.1) ...\n",
            "Collecting unidecode\n",
            "\u001b[?25l  Downloading https://files.pythonhosted.org/packages/74/65/91eab655041e9e92f948cb7302e54962035762ce7b518272ed9d6b269e93/Unidecode-1.1.2-py2.py3-none-any.whl (239kB)\n",
            "\u001b[K     |████████████████████████████████| 245kB 4.3MB/s \n",
            "\u001b[?25hInstalling collected packages: unidecode\n",
            "Successfully installed unidecode-1.1.2\n",
            "cp: '/usr/lib/chromium-browser/chromedriver' and '/usr/bin/chromedriver' are the same file\n"
          ],
          "name": "stdout"
        }
      ]
    },
    {
      "cell_type": "code",
      "metadata": {
        "colab": {
          "base_uri": "https://localhost:8080/"
        },
        "id": "Gn7NgnOg1Gmk",
        "outputId": "a660e23c-0c43-41a1-c8ff-f71c0c6df9f7"
      },
      "source": [
        "!pip install -q xlrd\n",
        "!git clone https://github.com/linus3003/AI-talents.git\n",
        "!ls AI-talents"
      ],
      "execution_count": 2,
      "outputs": [
        {
          "output_type": "stream",
          "text": [
            "Cloning into 'AI-talents'...\n",
            "remote: Enumerating objects: 3, done.\u001b[K\n",
            "remote: Counting objects: 100% (3/3), done.\u001b[K\n",
            "remote: Compressing objects: 100% (3/3), done.\u001b[K\n",
            "remote: Total 81 (delta 0), reused 0 (delta 0), pack-reused 78\u001b[K\n",
            "Unpacking objects: 100% (81/81), done.\n",
            "alldata0301.csv     alldata_final.csv\t  linksandtext.csv\t links.csv\n",
            "alldata.csv\t    date_translation.csv  linksandtextfinal.csv  links_new.csv\n",
            "alldata_final2.csv  linksandtext_2.csv\t  linksandtext_new.csv\t README.md\n"
          ],
          "name": "stdout"
        }
      ]
    },
    {
      "cell_type": "code",
      "metadata": {
        "id": "6vYAxDNl_Yp7"
      },
      "source": [
        "import os\n",
        "from bs4 import BeautifulSoup\n",
        "from selenium import webdriver\n",
        "from selenium.webdriver.common.keys import Keys\n",
        "from selenium.webdriver.common.by import By\n",
        "from itertools import chain\n",
        "import time\n",
        "import sys\n",
        "import numpy as np\n",
        "import pandas as pd\n",
        "import regex as re\n",
        "from IPython.display import Image\n",
        "from bs4.element import Comment, Tag\n",
        "import urllib.request\n",
        "import unidecode"
      ],
      "execution_count": 3,
      "outputs": []
    },
    {
      "cell_type": "code",
      "metadata": {
        "id": "auul0Mdd4ys_"
      },
      "source": [
        "wd = webdriver.Chrome('chromedriver',options=chrome_options)"
      ],
      "execution_count": 4,
      "outputs": []
    },
    {
      "cell_type": "code",
      "metadata": {
        "id": "3s5y3zhyK3bp"
      },
      "source": [
        "class Website:\n",
        "\n",
        "  def __init__(self, name, url, main, list_class, unit_class ='', cookie_cl='', next_button_class=''):\n",
        "    self.name = name\n",
        "    self.url = url\n",
        "    self.main = main\n",
        "    self.list_class = list_class\n",
        "    self.unit_class = unit_class\n",
        "    self.cookie_cl = cookie_cl\n",
        "    self.next_button_class = next_button_class\n",
        "  \n",
        "  def get_hl(self, driver, pages=2):\n",
        "    \n",
        "    house_links=[]\n",
        "    land_url = \"\"\n",
        "    driver.get(self.url)\n",
        "    first = True\n",
        "\n",
        "    for i in range(pages):\n",
        "\n",
        "        #driver.get(self.url)\n",
        "        print(\"scraping \",self.url,\" on page \",i+1 )\n",
        "        soup = BeautifulSoup(driver.page_source, 'html.parser')\n",
        "        \n",
        "        if self.name == 'wr':\n",
        "\n",
        "          listings = soup.find_all(\"a\", text = \"Zum Projekt\") #Wuestenrot, \n",
        "          page_data = [self.main+row['href'] for row in listings]\n",
        "\n",
        "        elif self.name == 'hwg':\n",
        "          \n",
        "          listings = soup.select(\"a[href*=/wohnungsbau/neubauprojekte/]\")\n",
        "          page_data = [self.main+row['href'] for row in listings]\n",
        "        \n",
        "\n",
        "        else:\n",
        "          \n",
        "          land_url = driver.current_url\n",
        "          listings_candidate = soup.find_all(\"a\", class_=self.list_class)\n",
        "          \n",
        "          page_data =[]\n",
        "\n",
        "          for l in listings_candidate:\n",
        "\n",
        "            page = driver.get(self.main+l['href'])\n",
        "            soup = BeautifulSoup(driver.page_source, 'html.parser')\n",
        "\n",
        "            start = soup.find(\"div\", class_=\"objUnits\")\n",
        "            page_data.append(self.main+l['href'])\n",
        "\n",
        "            if start is not None:\n",
        "                units= start.find_all_next(\"a\", class_ =self.unit_class)\n",
        "                unitlist = [self.main+row['href'] for row in units]\n",
        "                page_data.extend(unitlist)\n",
        "\n",
        "\n",
        "        house_links.append(page_data)\n",
        "        time.sleep(np.random.lognormal(0,0.5))\n",
        "        links = list(chain.from_iterable(house_links))\n",
        "\n",
        "        if self.next_button_class == \"\":\n",
        "            return links\n",
        "\n",
        "        if land_url != \"\":\n",
        "\n",
        "            driver.get(land_url)\n",
        "            soup = BeautifulSoup(driver.page_source, 'html.parser')\n",
        "        \n",
        "\n",
        "        next_button = soup.find_all(\"a\", class_=self.next_button_class)\n",
        "        next_button_link = [row['href'] for row in next_button]\n",
        "        \n",
        "\n",
        "        if i< pages-1:\n",
        "            if not next_button_link:\n",
        "              return links\n",
        "            elif len(next_button_link)==1:\n",
        "                if first:\n",
        "                  driver.get(next_button_link[0])\n",
        "                  first = False\n",
        "                else: return links\n",
        "\n",
        "            else:\n",
        "              driver.get(next_button_link[1])\n",
        "\n",
        "\n",
        "    return links       \n",
        "  \n",
        "\n",
        "  def acceptCookies(self,driver):\n",
        "    \n",
        "    wd.get(self.url)\n",
        "    try:\n",
        "          driver.find_by_id(self.cookie_cl).click()\n",
        "          print(\"button clicked\")\n",
        "    except Exception:\n",
        "          print(\"No cookie window found\")\n",
        "          pass\n",
        "    \n",
        "   \n"
      ],
      "execution_count": 5,
      "outputs": []
    },
    {
      "cell_type": "code",
      "metadata": {
        "id": "ALdrfpNqNHZ7"
      },
      "source": [
        "hwg = Website('hwg','https://www.howoge.de/wohnungsbau/neubauprojekte.html', 'https://www.howoge.de','col-sm-6 col-lg-4 mb-4 item')"
      ],
      "execution_count": 6,
      "outputs": []
    },
    {
      "cell_type": "code",
      "metadata": {
        "id": "UiSn52iX1o1w"
      },
      "source": [
        "wr = Website('wr', 'https://www.whs-wuestenrot.de/Aktuelle-Neubau-Projekte.htm', 'https://www.whs-wuestenrot.de', 'object_link arrowLink' )"
      ],
      "execution_count": 7,
      "outputs": []
    },
    {
      "cell_type": "code",
      "metadata": {
        "id": "m4O7Kr1xUodc"
      },
      "source": [
        "regions = ['berlin','muenchen','frankfurt','hamburg','duesseldorf','stuttgart','nuernberg','koeln','augsburg','bremen',\n",
        "'dresden','duesseldorf','freiburg','graz','hannover','heilbronn','ingolstadt','innsbruck','kassel', 'koeln','leipzig',\n",
        "'nuernberg','potsdam','regensburg','rhein-neckar','ruhrgebiet','salzburg','schleswig-holstein','stuttgart','wien','wuerzburg']"
      ],
      "execution_count": 8,
      "outputs": []
    },
    {
      "cell_type": "code",
      "metadata": {
        "id": "oSbk_fs8WFPl"
      },
      "source": [
        "nbk_urls = ['https://www.neubaukompass.de/neubau-immobilien/'+region+'-region/' for region in regions]"
      ],
      "execution_count": 9,
      "outputs": []
    },
    {
      "cell_type": "code",
      "metadata": {
        "id": "WLEOzzZFAstj"
      },
      "source": [
        "nbks = [Website(u,u, 'https://www.neubaukompass.de', \n",
        "              'nbk-block hover:nbk-text-primary',\n",
        "              'nbk-block nbk-px-1 nbk-py-2 hover:nbk-bg-gray-100',  \n",
        "               'nbk-px-20 nbk-py-2 nbk-text-white nbk-bg-secondary nbk-border-solid nbk-border nbk-border-secondary nbk-rounded nbk-shadow-2xl hover:nbk-opacity-90 hover:nbk-cursor-pointer btn-cookies-accept-all',\n",
        "               'nbk-flex nbk-items-center nbk-justify-center nbk-bg-red-700 nbk-border-none nbk-p-2 nbk-rounded nbk-cursor-pointer nbk-text-white nbk-font-medium nbk-appearance-none hover:nbk-bg-red-800 active:nbk-bg-red-800 focus:nbk-outline-none focus:nbk-shadow-none') for u in nbk_urls]\n",
        "\n",
        "\n"
      ],
      "execution_count": 10,
      "outputs": []
    },
    {
      "cell_type": "code",
      "metadata": {
        "id": "WrioB7JIEU8e"
      },
      "source": [
        "ws_dict = dict([ (w.name, w) for w in nbks ])"
      ],
      "execution_count": 11,
      "outputs": []
    },
    {
      "cell_type": "code",
      "metadata": {
        "id": "m7vM_c6BG6QV"
      },
      "source": [
        "ws_dict.update({'wr': wr,'hwg':hwg})"
      ],
      "execution_count": 12,
      "outputs": []
    },
    {
      "cell_type": "code",
      "metadata": {
        "colab": {
          "base_uri": "https://localhost:8080/"
        },
        "id": "WU7d8gpkKmw2",
        "outputId": "59b84c46-386f-47a8-db24-ac5543b75074"
      },
      "source": [
        "links=[]\n",
        "for w in ws_dict:\n",
        "  links.extend(ws_dict[w].get_hl(wd,pages=500))\n"
      ],
      "execution_count": null,
      "outputs": [
        {
          "output_type": "stream",
          "text": [
            "scraping  https://www.neubaukompass.de/neubau-immobilien/berlin-region/  on page  1\n",
            "scraping  https://www.neubaukompass.de/neubau-immobilien/berlin-region/  on page  2\n",
            "scraping  https://www.neubaukompass.de/neubau-immobilien/berlin-region/  on page  3\n",
            "scraping  https://www.neubaukompass.de/neubau-immobilien/berlin-region/  on page  4\n",
            "scraping  https://www.neubaukompass.de/neubau-immobilien/berlin-region/  on page  5\n",
            "scraping  https://www.neubaukompass.de/neubau-immobilien/berlin-region/  on page  6\n",
            "scraping  https://www.neubaukompass.de/neubau-immobilien/berlin-region/  on page  7\n",
            "scraping  https://www.neubaukompass.de/neubau-immobilien/berlin-region/  on page  8\n",
            "scraping  https://www.neubaukompass.de/neubau-immobilien/berlin-region/  on page  9\n",
            "scraping  https://www.neubaukompass.de/neubau-immobilien/berlin-region/  on page  10\n",
            "scraping  https://www.neubaukompass.de/neubau-immobilien/berlin-region/  on page  11\n",
            "scraping  https://www.neubaukompass.de/neubau-immobilien/berlin-region/  on page  12\n",
            "scraping  https://www.neubaukompass.de/neubau-immobilien/berlin-region/  on page  13\n",
            "scraping  https://www.neubaukompass.de/neubau-immobilien/berlin-region/  on page  14\n",
            "scraping  https://www.neubaukompass.de/neubau-immobilien/berlin-region/  on page  15\n",
            "scraping  https://www.neubaukompass.de/neubau-immobilien/berlin-region/  on page  16\n",
            "scraping  https://www.neubaukompass.de/neubau-immobilien/muenchen-region/  on page  1\n",
            "scraping  https://www.neubaukompass.de/neubau-immobilien/muenchen-region/  on page  2\n",
            "scraping  https://www.neubaukompass.de/neubau-immobilien/muenchen-region/  on page  3\n",
            "scraping  https://www.neubaukompass.de/neubau-immobilien/muenchen-region/  on page  4\n",
            "scraping  https://www.neubaukompass.de/neubau-immobilien/muenchen-region/  on page  5\n",
            "scraping  https://www.neubaukompass.de/neubau-immobilien/muenchen-region/  on page  6\n",
            "scraping  https://www.neubaukompass.de/neubau-immobilien/muenchen-region/  on page  7\n",
            "scraping  https://www.neubaukompass.de/neubau-immobilien/muenchen-region/  on page  8\n",
            "scraping  https://www.neubaukompass.de/neubau-immobilien/muenchen-region/  on page  9\n",
            "scraping  https://www.neubaukompass.de/neubau-immobilien/muenchen-region/  on page  10\n",
            "scraping  https://www.neubaukompass.de/neubau-immobilien/muenchen-region/  on page  11\n",
            "scraping  https://www.neubaukompass.de/neubau-immobilien/muenchen-region/  on page  12\n",
            "scraping  https://www.neubaukompass.de/neubau-immobilien/muenchen-region/  on page  13\n",
            "scraping  https://www.neubaukompass.de/neubau-immobilien/frankfurt-region/  on page  1\n",
            "scraping  https://www.neubaukompass.de/neubau-immobilien/frankfurt-region/  on page  2\n",
            "scraping  https://www.neubaukompass.de/neubau-immobilien/frankfurt-region/  on page  3\n",
            "scraping  https://www.neubaukompass.de/neubau-immobilien/frankfurt-region/  on page  4\n",
            "scraping  https://www.neubaukompass.de/neubau-immobilien/frankfurt-region/  on page  5\n",
            "scraping  https://www.neubaukompass.de/neubau-immobilien/frankfurt-region/  on page  6\n",
            "scraping  https://www.neubaukompass.de/neubau-immobilien/frankfurt-region/  on page  7\n",
            "scraping  https://www.neubaukompass.de/neubau-immobilien/frankfurt-region/  on page  8\n",
            "scraping  https://www.neubaukompass.de/neubau-immobilien/frankfurt-region/  on page  9\n",
            "scraping  https://www.neubaukompass.de/neubau-immobilien/frankfurt-region/  on page  10\n",
            "scraping  https://www.neubaukompass.de/neubau-immobilien/frankfurt-region/  on page  11\n",
            "scraping  https://www.neubaukompass.de/neubau-immobilien/hamburg-region/  on page  1\n",
            "scraping  https://www.neubaukompass.de/neubau-immobilien/hamburg-region/  on page  2\n",
            "scraping  https://www.neubaukompass.de/neubau-immobilien/hamburg-region/  on page  3\n",
            "scraping  https://www.neubaukompass.de/neubau-immobilien/hamburg-region/  on page  4\n",
            "scraping  https://www.neubaukompass.de/neubau-immobilien/hamburg-region/  on page  5\n",
            "scraping  https://www.neubaukompass.de/neubau-immobilien/hamburg-region/  on page  6\n",
            "scraping  https://www.neubaukompass.de/neubau-immobilien/hamburg-region/  on page  7\n",
            "scraping  https://www.neubaukompass.de/neubau-immobilien/hamburg-region/  on page  8\n",
            "scraping  https://www.neubaukompass.de/neubau-immobilien/duesseldorf-region/  on page  1\n",
            "scraping  https://www.neubaukompass.de/neubau-immobilien/duesseldorf-region/  on page  2\n",
            "scraping  https://www.neubaukompass.de/neubau-immobilien/duesseldorf-region/  on page  3\n",
            "scraping  https://www.neubaukompass.de/neubau-immobilien/duesseldorf-region/  on page  4\n",
            "scraping  https://www.neubaukompass.de/neubau-immobilien/stuttgart-region/  on page  1\n",
            "scraping  https://www.neubaukompass.de/neubau-immobilien/stuttgart-region/  on page  2\n",
            "scraping  https://www.neubaukompass.de/neubau-immobilien/stuttgart-region/  on page  3\n",
            "scraping  https://www.neubaukompass.de/neubau-immobilien/stuttgart-region/  on page  4\n",
            "scraping  https://www.neubaukompass.de/neubau-immobilien/stuttgart-region/  on page  5\n",
            "scraping  https://www.neubaukompass.de/neubau-immobilien/stuttgart-region/  on page  6\n",
            "scraping  https://www.neubaukompass.de/neubau-immobilien/stuttgart-region/  on page  7\n",
            "scraping  https://www.neubaukompass.de/neubau-immobilien/stuttgart-region/  on page  8\n",
            "scraping  https://www.neubaukompass.de/neubau-immobilien/nuernberg-region/  on page  1\n",
            "scraping  https://www.neubaukompass.de/neubau-immobilien/nuernberg-region/  on page  2\n",
            "scraping  https://www.neubaukompass.de/neubau-immobilien/nuernberg-region/  on page  3\n",
            "scraping  https://www.neubaukompass.de/neubau-immobilien/nuernberg-region/  on page  4\n",
            "scraping  https://www.neubaukompass.de/neubau-immobilien/koeln-region/  on page  1\n",
            "scraping  https://www.neubaukompass.de/neubau-immobilien/koeln-region/  on page  2\n",
            "scraping  https://www.neubaukompass.de/neubau-immobilien/koeln-region/  on page  3\n",
            "scraping  https://www.neubaukompass.de/neubau-immobilien/koeln-region/  on page  4\n",
            "scraping  https://www.neubaukompass.de/neubau-immobilien/koeln-region/  on page  5\n",
            "scraping  https://www.neubaukompass.de/neubau-immobilien/augsburg-region/  on page  1\n",
            "scraping  https://www.neubaukompass.de/neubau-immobilien/augsburg-region/  on page  2\n",
            "scraping  https://www.neubaukompass.de/neubau-immobilien/augsburg-region/  on page  3\n",
            "scraping  https://www.neubaukompass.de/neubau-immobilien/bremen-region/  on page  1\n",
            "scraping  https://www.neubaukompass.de/neubau-immobilien/bremen-region/  on page  2\n",
            "scraping  https://www.neubaukompass.de/neubau-immobilien/dresden-region/  on page  1\n",
            "scraping  https://www.neubaukompass.de/neubau-immobilien/dresden-region/  on page  2\n",
            "scraping  https://www.neubaukompass.de/neubau-immobilien/dresden-region/  on page  3\n",
            "scraping  https://www.neubaukompass.de/neubau-immobilien/freiburg-region/  on page  1\n",
            "scraping  https://www.neubaukompass.de/neubau-immobilien/freiburg-region/  on page  2\n",
            "scraping  https://www.neubaukompass.de/neubau-immobilien/graz-region/  on page  1\n",
            "scraping  https://www.neubaukompass.de/neubau-immobilien/graz-region/  on page  2\n",
            "scraping  https://www.neubaukompass.de/neubau-immobilien/hannover-region/  on page  1\n",
            "scraping  https://www.neubaukompass.de/neubau-immobilien/hannover-region/  on page  2\n",
            "scraping  https://www.neubaukompass.de/neubau-immobilien/hannover-region/  on page  3\n",
            "scraping  https://www.neubaukompass.de/neubau-immobilien/heilbronn-region/  on page  1\n",
            "scraping  https://www.neubaukompass.de/neubau-immobilien/heilbronn-region/  on page  2\n",
            "scraping  https://www.neubaukompass.de/neubau-immobilien/ingolstadt-region/  on page  1\n",
            "scraping  https://www.neubaukompass.de/neubau-immobilien/ingolstadt-region/  on page  2\n",
            "scraping  https://www.neubaukompass.de/neubau-immobilien/innsbruck-region/  on page  1\n",
            "scraping  https://www.neubaukompass.de/neubau-immobilien/innsbruck-region/  on page  2\n",
            "scraping  https://www.neubaukompass.de/neubau-immobilien/kassel-region/  on page  1\n",
            "scraping  https://www.neubaukompass.de/neubau-immobilien/leipzig-region/  on page  1\n",
            "scraping  https://www.neubaukompass.de/neubau-immobilien/leipzig-region/  on page  2\n",
            "scraping  https://www.neubaukompass.de/neubau-immobilien/leipzig-region/  on page  3\n",
            "scraping  https://www.neubaukompass.de/neubau-immobilien/leipzig-region/  on page  4\n",
            "scraping  https://www.neubaukompass.de/neubau-immobilien/potsdam-region/  on page  1\n",
            "scraping  https://www.neubaukompass.de/neubau-immobilien/potsdam-region/  on page  2\n",
            "scraping  https://www.neubaukompass.de/neubau-immobilien/regensburg-region/  on page  1\n",
            "scraping  https://www.neubaukompass.de/neubau-immobilien/regensburg-region/  on page  2\n",
            "scraping  https://www.neubaukompass.de/neubau-immobilien/regensburg-region/  on page  3\n",
            "scraping  https://www.neubaukompass.de/neubau-immobilien/rhein-neckar-region/  on page  1\n",
            "scraping  https://www.neubaukompass.de/neubau-immobilien/rhein-neckar-region/  on page  2\n",
            "scraping  https://www.neubaukompass.de/neubau-immobilien/rhein-neckar-region/  on page  3\n",
            "scraping  https://www.neubaukompass.de/neubau-immobilien/rhein-neckar-region/  on page  4\n",
            "scraping  https://www.neubaukompass.de/neubau-immobilien/ruhrgebiet-region/  on page  1\n",
            "scraping  https://www.neubaukompass.de/neubau-immobilien/ruhrgebiet-region/  on page  2\n",
            "scraping  https://www.neubaukompass.de/neubau-immobilien/ruhrgebiet-region/  on page  3\n",
            "scraping  https://www.neubaukompass.de/neubau-immobilien/salzburg-region/  on page  1\n",
            "scraping  https://www.neubaukompass.de/neubau-immobilien/salzburg-region/  on page  2\n",
            "scraping  https://www.neubaukompass.de/neubau-immobilien/schleswig-holstein-region/  on page  1\n",
            "scraping  https://www.neubaukompass.de/neubau-immobilien/schleswig-holstein-region/  on page  2\n",
            "scraping  https://www.neubaukompass.de/neubau-immobilien/schleswig-holstein-region/  on page  3\n",
            "scraping  https://www.neubaukompass.de/neubau-immobilien/schleswig-holstein-region/  on page  4\n",
            "scraping  https://www.neubaukompass.de/neubau-immobilien/wien-region/  on page  1\n",
            "scraping  https://www.neubaukompass.de/neubau-immobilien/wien-region/  on page  2\n",
            "scraping  https://www.neubaukompass.de/neubau-immobilien/wien-region/  on page  3\n",
            "scraping  https://www.neubaukompass.de/neubau-immobilien/wien-region/  on page  4\n",
            "scraping  https://www.neubaukompass.de/neubau-immobilien/wien-region/  on page  5\n",
            "scraping  https://www.neubaukompass.de/neubau-immobilien/wuerzburg-region/  on page  1\n",
            "scraping  https://www.whs-wuestenrot.de/Aktuelle-Neubau-Projekte.htm  on page  1\n",
            "scraping  https://www.howoge.de/wohnungsbau/neubauprojekte.html  on page  1\n"
          ],
          "name": "stdout"
        }
      ]
    },
    {
      "cell_type": "code",
      "metadata": {
        "id": "lFhxSH2ZkRo2"
      },
      "source": [
        "links2 = list(chain.from_iterable(links))"
      ],
      "execution_count": null,
      "outputs": []
    },
    {
      "cell_type": "code",
      "metadata": {
        "id": "3wmkQrAJChLA"
      },
      "source": [
        "linksdf = pd.DataFrame(links,columns=['url'])"
      ],
      "execution_count": null,
      "outputs": []
    },
    {
      "cell_type": "code",
      "metadata": {
        "id": "LaUs0KzbDNIn"
      },
      "source": [
        "linksdf.to_csv('links_new.csv')"
      ],
      "execution_count": null,
      "outputs": []
    }
  ]
}